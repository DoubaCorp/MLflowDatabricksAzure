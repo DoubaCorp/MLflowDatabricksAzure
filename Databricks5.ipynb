{
 "cells": [
  {
   "cell_type": "code",
   "execution_count": 0,
   "metadata": {
    "application/vnd.databricks.v1+cell": {
     "cellMetadata": {
      "byteLimit": 2048000,
      "rowLimit": 10000
     },
     "inputWidgets": {},
     "nuid": "a298f784-0f5c-4918-954d-225b7d352c3a",
     "showTitle": false,
     "title": ""
    }
   },
   "outputs": [
    {
     "output_type": "stream",
     "name": "stdout",
     "output_type": "stream",
     "text": [
      "Collecting mlflow==1.20.2\r\n  Downloading mlflow-1.20.2-py3-none-any.whl (14.6 MB)\r\n\u001B[?25l\r\u001B[K     |                                | 10 kB 18.0 MB/s eta 0:00:01\r\u001B[K     |                                | 20 kB 6.6 MB/s eta 0:00:03\r\u001B[K     |                                | 30 kB 9.2 MB/s eta 0:00:02\r\u001B[K     |                                | 40 kB 6.1 MB/s eta 0:00:03\r\u001B[K     |▏                               | 51 kB 5.6 MB/s eta 0:00:03\r\u001B[K     |▏                               | 61 kB 6.6 MB/s eta 0:00:03\r\u001B[K     |▏                               | 71 kB 6.7 MB/s eta 0:00:03\r\u001B[K     |▏                               | 81 kB 6.4 MB/s eta 0:00:03\r\u001B[K     |▏                               | 92 kB 7.1 MB/s eta 0:00:03\r\u001B[K     |▎                               | 102 kB 6.0 MB/s eta 0:00:03\r\u001B[K     |▎                               | 112 kB 6.0 MB/s eta 0:00:03\r\u001B[K     |▎                               | 122 kB 6.0 MB/s eta 0:00:03\r\u001B[K     |▎                               | 133 kB 6.0 MB/s eta 0:00:03\r\u001B[K     |▎                               | 143 kB 6.0 MB/s eta 0:00:03\r\u001B[K     |▍                               | 153 kB 6.0 MB/s eta 0:00:03\r\u001B[K     |▍                               | 163 kB 6.0 MB/s eta 0:00:03\r\u001B[K     |▍                               | 174 kB 6.0 MB/s eta 0:00:03\r\u001B[K     |▍                               | 184 kB 6.0 MB/s eta 0:00:03\r\u001B[K     |▍                               | 194 kB 6.0 MB/s eta 0:00:03\r\u001B[K     |▌                               | 204 kB 6.0 MB/s eta 0:00:03\r\u001B[K     |▌                               | 215 kB 6.0 MB/s eta 0:00:03\r\u001B[K     |▌                               | 225 kB 6.0 MB/s eta 0:00:03\r\u001B[K     |▌                               | 235 kB 6.0 MB/s eta 0:00:03\r\u001B[K     |▌                               | 245 kB 6.0 MB/s eta 0:00:03\r\u001B[K     |▋                               | 256 kB 6.0 MB/s eta 0:00:03\r\u001B[K     |▋                               | 266 kB 6.0 MB/s eta 0:00:03\r\u001B[K     |▋                               | 276 kB 6.0 MB/s eta 0:00:03\r\u001B[K     |▋                               | 286 kB 6.0 MB/s eta 0:00:03\r\u001B[K     |▋                               | 296 kB 6.0 MB/s eta 0:00:03\r\u001B[K     |▊                               | 307 kB 6.0 MB/s eta 0:00:03\r\u001B[K     |▊                               | 317 kB 6.0 MB/s eta 0:00:03\r\u001B[K     |▊                               | 327 kB 6.0 MB/s eta 0:00:03\r\u001B[K     |▊                               | 337 kB 6.0 MB/s eta 0:00:03\r\u001B[K     |▊                               | 348 kB 6.0 MB/s eta 0:00:03\r\u001B[K     |▉                               | 358 kB 6.0 MB/s eta 0:00:03\r\u001B[K     |▉                               | 368 kB 6.0 MB/s eta 0:00:03\r\u001B[K     |▉                               | 378 kB 6.0 MB/s eta 0:00:03\r\u001B[K     |▉                               | 389 kB 6.0 MB/s eta 0:00:03\r\u001B[K     |▉                               | 399 kB 6.0 MB/s eta 0:00:03\r\u001B[K     |█                               | 409 kB 6.0 MB/s eta 0:00:03\r\u001B[K     |█                               | 419 kB 6.0 MB/s eta 0:00:03\r\u001B[K     |█                               | 430 kB 6.0 MB/s eta 0:00:03\r\u001B[K     |█                               | 440 kB 6.0 MB/s eta 0:00:03\r\u001B[K     |█                               | 450 kB 6.0 MB/s eta 0:00:03\r\u001B[K     |█                               | 460 kB 6.0 MB/s eta 0:00:03\r\u001B[K     |█                               | 471 kB 6.0 MB/s eta 0:00:03\r\u001B[K     |█                               | 481 kB 6.0 MB/s eta 0:00:03\r\u001B[K     |█                               | 491 kB 6.0 MB/s eta 0:00:03\r\u001B[K     |█                               | 501 kB 6.0 MB/s eta 0:00:03\r\u001B[K     |█▏                              | 512 kB 6.0 MB/s eta 0:00:03\r\u001B[K     |█▏                              | 522 kB 6.0 MB/s eta 0:00:03\r\u001B[K     |█▏                              | 532 kB 6.0 MB/s eta 0:00:03\r\u001B[K     |█▏                              | 542 kB 6.0 MB/s eta 0:00:03\r\u001B[K     |█▏                              | 552 kB 6.0 MB/s eta 0:00:03\r\u001B[K     |█▎                              | 563 kB 6.0 MB/s eta 0:00:03\r\u001B[K     |█▎                              | 573 kB 6.0 MB/s eta 0:00:03\r\u001B[K     |█▎                              | 583 kB 6.0 MB/s eta 0:00:03\r\u001B[K     |█▎                              | 593 kB 6.0 MB/s eta 0:00:03\r\u001B[K     |█▎                              | 604 kB 6.0 MB/s eta 0:00:03\r\u001B[K     |█▍                              | 614 kB 6.0 MB/s eta 0:00:03\r\u001B[K     |█▍                              | 624 kB 6.0 MB/s eta 0:00:03\r\u001B[K     |█▍                              | 634 kB 6.0 MB/s eta 0:00:03\r\u001B[K     |█▍                              | 645 kB 6.0 MB/s eta 0:00:03\r\u001B[K     |█▍                              | 655 kB 6.0 MB/s eta 0:00:03\r\u001B[K     |█▌                              | 665 kB 6.0 MB/s eta 0:00:03\r\u001B[K     |█▌                              | 675 kB 6.0 MB/s eta 0:00:03\r\u001B[K     |█▌                              | 686 kB 6.0 MB/s eta 0:00:03\r\u001B[K     |█▌                              | 696 kB 6.0 MB/s eta 0:00:03\r\u001B[K     |█▌                              | 706 kB 6.0 MB/s eta 0:00:03\r\u001B[K     |█▋                              | 716 kB 6.0 MB/s eta 0:00:03\r\u001B[K     |█▋                              | 727 kB 6.0 MB/s eta 0:00:03\r\u001B[K     |█▋                              | 737 kB 6.0 MB/s eta 0:00:03\r\u001B[K     |█▋                              | 747 kB 6.0 MB/s eta 0:00:03\r\u001B[K     |█▋                              | 757 kB 6.0 MB/s eta 0:00:03\r\u001B[K     |█▊                              | 768 kB 6.0 MB/s eta 0:00:03\r\u001B[K     |█▊                              | 778 kB 6.0 MB/s eta 0:00:03\r\u001B[K     |█▊                              | 788 kB 6.0 MB/s eta 0:00:03\r\u001B[K     |█▊                              | 798 kB 6.0 MB/s eta 0:00:03\r\u001B[K     |█▊                              | 808 kB 6.0 MB/s eta 0:00:03\r\u001B[K     |█▉                              | 819 kB 6.0 MB/s eta 0:00:03\r\u001B[K     |█▉                              | 829 kB 6.0 MB/s eta 0:00:03\r\u001B[K     |█▉                              | 839 kB 6.0 MB/s eta 0:00:03\r\u001B[K     |█▉                              | 849 kB 6.0 MB/s eta 0:00:03\r\u001B[K     |█▉                              | 860 kB 6.0 MB/s eta 0:00:03\r\u001B[K     |██                              | 870 kB 6.0 MB/s eta 0:00:03\r\u001B[K     |██                              | 880 kB 6.0 MB/s eta 0:00:03\r\u001B[K     |██                              | 890 kB 6.0 MB/s eta 0:00:03\r\u001B[K     |██                              | 901 kB 6.0 MB/s eta 0:00:03\r\u001B[K     |██                              | 911 kB 6.0 MB/s eta 0:00:03\r\u001B[K     |██                              | 921 kB 6.0 MB/s eta 0:00:03\r\u001B[K     |██                              | 931 kB 6.0 MB/s eta 0:00:03\r\u001B[K     |██                              | 942 kB 6.0 MB/s eta 0:00:03\r\u001B[K     |██                              | 952 kB 6.0 MB/s eta 0:00:03\r\u001B[K     |██                              | 962 kB 6.0 MB/s eta 0:00:03\r\u001B[K     |██▏                             | 972 kB 6.0 MB/s eta 0:00:03\r\u001B[K     |██▏                             | 983 kB 6.0 MB/s eta 0:00:03\r\u001B[K     |██▏                             | 993 kB 6.0 MB/s eta 0:00:03\r\u001B[K     |██▏                             | 1.0 MB 6.0 MB/s eta 0:00:03\r\u001B[K     |██▏                             | 1.0 MB 6.0 MB/s eta 0:00:03\r\u001B[K     |██▎                             | 1.0 MB 6.0 MB/s eta 0:00:03\r\u001B[K     |██▎                             | 1.0 MB 6.0 MB/s eta 0:00:03\r\u001B[K     |██▎                             | 1.0 MB 6.0 MB/s eta 0:00:03\r\u001B[K     |██▎                             | 1.1 MB 6.0 MB/s eta 0:00:03\r\u001B[K     |██▎                             | 1.1 MB 6.0 MB/s eta 0:00:03\r\u001B[K     |██▍                             | 1.1 MB 6.0 MB/s eta 0:00:03\r\u001B[K     |██▍                             | 1.1 MB 6.0 MB/s eta 0:00:03\r\u001B[K     |██▍                             | 1.1 MB 6.0 MB/s eta 0:00:03\r\u001B[K     |██▍                             | 1.1 MB 6.0 MB/s eta 0:00:03\r\u001B[K     |██▍                             | 1.1 MB 6.0 MB/s eta 0:00:03\r\u001B[K     |██▌                             | 1.1 MB 6.0 MB/s eta 0:00:03\r\u001B[K     |██▌                             | 1.1 MB 6.0 MB/s eta 0:00:03\r\u001B[K     |██▌                             | 1.1 MB 6.0 MB/s eta 0:00:03\r\u001B[K     |██▌                             | 1.2 MB 6.0 MB/s eta 0:00:03\r\u001B[K     |██▌                             | 1.2 MB 6.0 MB/s eta 0:00:03\r\u001B[K     |██▋                             | 1.2 MB 6.0 MB/s eta 0:00:03\r\u001B[K     |██▋                             | 1.2 MB 6.0 MB/s eta 0:00:03\r\u001B[K     |██▋                             | 1.2 MB 6.0 MB/s eta 0:00:03\r\u001B[K     |██▋                             | 1.2 MB 6.0 MB/s eta 0:00:03\r\u001B[K     |██▋                             | 1.2 MB 6.0 MB/s eta 0:00:03\r\u001B[K     |██▊                             | 1.2 MB 6.0 MB/s eta 0:00:03\r\u001B[K     |██▊                             | 1.2 MB 6.0 MB/s eta 0:00:03\r\u001B[K     |██▊                             | 1.2 MB 6.0 MB/s eta 0:00:03\r\u001B[K     |██▊                             | 1.3 MB 6.0 MB/s eta 0:00:03\r\u001B[K     |██▊                             | 1.3 MB 6.0 MB/s eta 0:00:03\r\u001B[K     |██▉                             | 1.3 MB 6.0 MB/s eta 0:00:03\r\u001B[K     |██▉                             | 1.3 MB 6.0 MB/s eta 0:00:03\r\u001B[K     |██▉                             | 1.3 MB 6.0 MB/s eta 0:00:03\r\u001B[K     |██▉                             | 1.3 MB 6.0 MB/s eta 0:00:03\r\u001B[K     |███                             | 1.3 MB 6.0 MB/s eta 0:00:03\r\u001B[K     |███                             | 1.3 MB 6.0 MB/s eta 0:00:03\r\u001B[K     |███                             | 1.3 MB 6.0 MB/s eta 0:00:03\r\u001B[K     |███                             | 1.4 MB 6.0 MB/s eta 0:00:03\r\u001B[K     |███                             | 1.4 MB 6.0 MB/s eta 0:00:03\r\u001B[K     |███                             | 1.4 MB 6.0 MB/s eta 0:00:03\r\u001B[K     |███                             | 1.4 MB 6.0 MB/s eta 0:00:03\r\u001B[K     |███                             | 1.4 MB 6.0 MB/s eta 0:00:03\r\u001B[K     |███                             | 1.4 MB 6.0 MB/s eta 0:00:03\r\u001B[K     |███                             | 1.4 MB 6.0 MB/s eta 0:00:03\r\u001B[K     |███▏                            | 1.4 MB 6.0 MB/s eta 0:00:03\r\u001B[K     |███▏                            | 1.4 MB 6.0 MB/s eta 0:00:03\r\u001B[K     |███▏                            | 1.4 MB 6.0 MB/s eta 0:00:03\r\u001B[K     |███▏                            | 1.5 MB 6.0 MB/s eta 0:00:03\r\u001B[K     |███▏                            | 1.5 MB 6.0 MB/s eta 0:00:03\r\u001B[K     |███▎                            | 1.5 MB 6.0 MB/s eta 0:00:03\r\u001B[K     |███▎                            | 1.5 MB 6.0 MB/s eta 0:00:03\r\u001B[K     |███▎                            | 1.5 MB 6.0 MB/s eta 0:00:03\r\u001B[K     |███▎                            | 1.5 MB 6.0 MB/s eta 0:00:03\r\u001B[K     |███▎                            | 1.5 MB 6.0 MB/s eta 0:00:03\r\u001B[K     |███▍                            | 1.5 MB 6.0 MB/s eta 0:00:03\r\u001B[K     |███▍                            | 1.5 MB 6.0 MB/s eta 0:00:03\r\u001B[K     |███▍                            | 1.5 MB 6.0 MB/s eta 0:00:03\r\u001B[K     |███▍                            | 1.6 MB 6.0 MB/s eta 0:00:03\r\u001B[K     |███▍                            | 1.6 MB 6.0 MB/s eta 0:00:03\r\u001B[K     |███▌                            | 1.6 MB 6.0 MB/s eta 0:00:03\r\u001B[K     |███▌                            | 1.6 MB 6.0 MB/s eta 0:00:03\r\u001B[K     |███▌                            | 1.6 MB 6.0 MB/s eta 0:00:03\r\u001B[K     |███▌                            | 1.6 MB 6.0 MB/s eta 0:00:03\r\u001B[K     |███▌                            | 1.6 MB 6.0 MB/s eta 0:00:03\r\u001B[K     |███▋                            | 1.6 MB 6.0 MB/s eta 0:00:03\r\u001B[K     |███▋                            | 1.6 MB 6.0 MB/s eta 0:00:03\r\u001B[K     |███▋                            | 1.6 MB 6.0 MB/s eta 0:00:03\r\u001B[K     |███▋                            | 1.7 MB 6.0 MB/s eta 0:00:03\r\u001B[K     |███▋                            | 1.7 MB 6.0 MB/s eta 0:00:03\r\u001B[K     |███▊                            | 1.7 MB 6.0 MB/s eta 0:00:03\r\u001B[K     |███▊                            | 1.7 MB 6.0 MB/s eta 0:00:03\r\u001B[K     |███▊                            | 1.7 MB 6.0 MB/s eta 0:00:03\r\u001B[K     |███▊                            | 1.7 MB 6.0 MB/s eta 0:00:03\r\u001B[K     |███▊                            | 1.7 MB 6.0 MB/s eta 0:00:03\r\u001B[K     |███▉                            | 1.7 MB 6.0 MB/s eta 0:00:03\r\u001B[K     |███▉                            | 1.7 MB 6.0 MB/s eta 0:00:03\r\u001B[K     |███▉                            | 1.8 MB 6.0 MB/s eta 0:00:03\r\u001B[K     |███▉                            | 1.8 MB 6.0 MB/s eta 0:00:03\r\u001B[K     |███▉                            | 1.8 MB 6.0 MB/s eta 0:00:03\r\u001B[K     |████                            | 1.8 MB 6.0 MB/s eta 0:00:03\r\u001B[K     |████                            | 1.8 MB 6.0 MB/s eta 0:00:03\r\u001B[K     |████                            | 1.8 MB 6.0 MB/s eta 0:00:03\r\u001B[K     |████                            | 1.8 MB 6.0 MB/s eta 0:00:03\r\u001B[K     |████                            | 1.8 MB 6.0 MB/s eta 0:00:03\r\u001B[K     |████                            | 1.8 MB 6.0 MB/s eta 0:00:03\r\u001B[K     |████                            | 1.8 MB 6.0 MB/s eta 0:00:03\r\u001B[K     |████                            | 1.9 MB 6.0 MB/s eta 0:00:03\r\u001B[K     |████                            | 1.9 MB 6.0 MB/s eta 0:00:03\r\u001B[K     |████                            | 1.9 MB 6.0 MB/s eta 0:00:03\r\u001B[K     |████▏                           | 1.9 MB 6.0 MB/s eta 0:00:03\r\u001B[K     |████▏                           | 1.9 MB 6.0 MB/s eta 0:00:03\r\u001B[K     |████▏                           | 1.9 MB 6.0 MB/s eta 0:00:03\r\u001B[K     |████▏                           | 1.9 MB 6.0 MB/s eta 0:00:03\r\u001B[K     |████▏                           | 1.9 MB 6.0 MB/s eta 0:00:03\r\u001B[K     |████▎                           | 1.9 MB 6.0 MB/s eta 0:00:03\r\u001B[K     |████▎                           | 1.9 MB 6.0 MB/s eta 0:00:03\r\u001B[K     |████▎                           | 2.0 MB 6.0 MB/s eta 0:00:03\r\u001B[K     |████▎                           | 2.0 MB 6.0 MB/s eta 0:00:03\r\u001B[K     |████▎                           | 2.0 MB 6.0 MB/s eta 0:00:03\r\u001B[K     |████▍                           | 2.0 MB 6.0 MB/s eta 0:00:03\r\u001B[K     |████▍                           | 2.0 MB 6.0 MB/s eta 0:00:03\r\u001B[K     |████▍                           | 2.0 MB 6.0 MB/s eta 0:00:03\r\u001B[K     |████▍                           | 2.0 MB 6.0 MB/s eta 0:00:03\r\u001B[K     |████▍                           | 2.0 MB 6.0 MB/s eta 0:00:03\r\u001B[K     |████▌                           | 2.0 MB 6.0 MB/s eta 0:00:03\r\u001B[K     |████▌                           | 2.0 MB 6.0 MB/s eta 0:00:03\r\u001B[K     |████▌                           | 2.1 MB 6.0 MB/s eta 0:00:03\r\u001B[K     |████▌                           | 2.1 MB 6.0 MB/s eta 0:00:03\r\u001B[K     |████▌                           | 2.1 MB 6.0 MB/s eta 0:00:03\r\u001B[K     |████▋                           | 2.1 MB 6.0 MB/s eta 0:00:03\r\u001B[K     |████▋                           | 2.1 MB 6.0 MB/s eta 0:00:03\r\u001B[K     |████▋                           | 2.1 MB 6.0 MB/s eta 0:00:03\r\u001B[K     |████▋                           | 2.1 MB 6.0 MB/s eta 0:00:03\r\u001B[K     |████▋                           | 2.1 MB 6.0 MB/s eta 0:00:03\r\u001B[K     |████▊                           | 2.1 MB 6.0 MB/s eta 0:00:03\r\u001B[K     |████▊                           | 2.2 MB 6.0 MB/s eta 0:00:03\r\u001B[K     |████▊                           | 2.2 MB 6.0 MB/s eta 0:00:03\r\u001B[K     |████▊                           | 2.2 MB 6.0 MB/s eta 0:00:03\r\u001B[K     |████▊                           | 2.2 MB 6.0 MB/s eta 0:00:03\r\u001B[K     |████▉                           | 2.2 MB 6.0 MB/s eta 0:00:03\r\u001B[K     |████▉                           | 2.2 MB 6.0 MB/s eta 0:00:03\r\u001B[K     |████▉                           | 2.2 MB 6.0 MB/s eta 0:00:03\r\u001B[K     |████▉                           | 2.2 MB 6.0 MB/s eta 0:00:03\r\u001B[K     |████▉                           | 2.2 MB 6.0 MB/s eta 0:00:03\r\u001B[K     |█████                           | 2.2 MB 6.0 MB/s eta 0:00:03\r\u001B[K     |█████                           | 2.3 MB 6.0 MB/s eta 0:00:03\r\u001B[K     |█████                           | 2.3 MB 6.0 MB/s eta 0:00:03\r\u001B[K     |█████                           | 2.3 MB 6.0 MB/s eta 0:00:03\r\u001B[K     |█████                           | 2.3 MB 6.0 MB/s eta 0:00:03\r\u001B[K     |█████                           | 2.3 MB 6.0 MB/s eta 0:00:03\r\u001B[K     |█████                           | 2.3 MB 6.0 MB/s eta 0:00:03\r\u001B[K     |█████                           | 2.3 MB 6.0 MB/s eta 0:00:03\r\u001B[K     |█████                           | 2.3 MB 6.0 MB/s eta 0:00:03\r\u001B[K     |█████                           | 2.3 MB 6.0 MB/s eta 0:00:03\r\u001B[K     |█████▏                          | 2.3 MB 6.0 MB/s eta 0:00:03\r\u001B[K     |█████▏                          | 2.4 MB 6.0 MB/s eta 0:00:03\r\u001B[K     |█████▏                          | 2.4 MB 6.0 MB/s eta 0:00:03\r\u001B[K     |█████▏                          | 2.4 MB 6.0 MB/s eta 0:00:03\r\u001B[K     |█████▏                          | 2.4 MB 6.0 MB/s eta 0:00:03\r\u001B[K     |█████▎                          | 2.4 MB 6.0 MB/s eta 0:00:03\r\u001B[K     |█████▎                          | 2.4 MB 6.0 MB/s eta 0:00:03\r\u001B[K     |█████▎                          | 2.4 MB 6.0 MB/s eta 0:00:03\r\u001B[K     |█████▎                          | 2.4 MB 6.0 MB/s eta 0:00:03\r\u001B[K     |█████▎                          | 2.4 MB 6.0 MB/s eta 0:00:03\r\u001B[K     |█████▍                          | 2.4 MB 6.0 MB/s eta 0:00:03\r\u001B[K     |█████▍                          | 2.5 MB 6.0 MB/s eta 0:00:03\r\u001B[K     |█████▍                          | 2.5 MB 6.0 MB/s eta 0:00:03\r\u001B[K     |█████▍                          | 2.5 MB 6.0 MB/s eta 0:00:03\r\u001B[K     |█████▍                          | 2.5 MB 6.0 MB/s eta 0:00:03\r\u001B[K     |█████▌                          | 2.5 MB 6.0 MB/s eta 0:00:03\r\u001B[K     |█████▌                          | 2.5 MB 6.0 MB/s eta 0:00:03\r\u001B[K     |█████▌                          | 2.5 MB 6.0 MB/s eta 0:00:03\r\u001B[K     |█████▌                          | 2.5 MB 6.0 MB/s eta 0:00:03\r\u001B[K     |█████▌                          | 2.5 MB 6.0 MB/s eta 0:00:03\r\u001B[K     |█████▋                          | 2.5 MB 6.0 MB/s eta 0:00:03\r\u001B[K     |█████▋                          | 2.6 MB 6.0 MB/s eta 0:00:03\r\u001B[K     |█████▋                          | 2.6 MB 6.0 MB/s eta 0:00:03\r\u001B[K     |█████▋                          | 2.6 MB 6.0 MB/s eta 0:00:03\r\u001B[K     |█████▊                          | 2.6 MB 6.0 MB/s eta 0:00:02\r\u001B[K     |█████▊                          | 2.6 MB 6.0 MB/s eta 0:00:02\r\u001B[K     |█████▊                          | 2.6 MB 6.0 MB/s eta 0:00:02\r\u001B[K     |█████▊                          | 2.6 MB 6.0 MB/s eta 0:00:02\r\u001B[K     |█████▊                          | 2.6 MB 6.0 MB/s eta 0:00:02\r\u001B[K     |█████▉                          | 2.6 MB 6.0 MB/s eta 0:00:02\r\u001B[K     |█████▉                          | 2.7 MB 6.0 MB/s eta 0:00:02\r\u001B[K     |█████▉                          | 2.7 MB 6.0 MB/s eta 0:00:02\r\u001B[K     |█████▉                          | 2.7 MB 6.0 MB/s eta 0:00:02\r\u001B[K     |█████▉                          | 2.7 MB 6.0 MB/s eta 0:00:02\r\u001B[K     |██████                          | 2.7 MB 6.0 MB/s eta 0:00:02\r\u001B[K     |██████                          | 2.7 MB 6.0 MB/s eta 0:00:02\r\u001B[K     |██████                          | 2.7 MB 6.0 MB/s eta 0:00:02\r\u001B[K     |██████                          | 2.7 MB 6.0 MB/s eta 0:00:02\r\u001B[K     |██████                          | 2.7 MB 6.0 MB/s eta 0:00:02\r\u001B[K     |██████                          | 2.7 MB 6.0 MB/s eta 0:00:02\r\u001B[K     |██████                          | 2.8 MB 6.0 MB/s eta 0:00:02\r\u001B[K     |██████                          | 2.8 MB 6.0 MB/s eta 0:00:02\r\u001B[K     |██████                          | 2.8 MB 6.0 MB/s eta 0:00:02\r\u001B[K     |██████                          | 2.8 MB 6.0 MB/s eta 0:00:02\r\u001B[K     |██████▏                         | 2.8 MB 6.0 MB/s eta 0:00:02\r\u001B[K     |██████▏                         | 2.8 MB 6.0 MB/s eta 0:00:02\r\u001B[K     |██████▏                         | 2.8 MB 6.0 MB/s eta 0:00:02\r\u001B[K     |██████▏                         | 2.8 MB 6.0 MB/s eta 0:00:02\r\u001B[K     |██████▏                         | 2.8 MB 6.0 MB/s eta 0:00:02\r\u001B[K     |██████▎                         | 2.8 MB 6.0 MB/s eta 0:00:02\r\u001B[K     |██████▎                         | 2.9 MB 6.0 MB/s eta 0:00:02\r\u001B[K     |██████▎                         | 2.9 MB 6.0 MB/s eta 0:00:02\r\u001B[K     |██████▎                         | 2.9 MB 6.0 MB/s eta 0:00:02\r\u001B[K     |██████▎                         | 2.9 MB 6.0 MB/s eta 0:00:02\r\u001B[K     |██████▍                         | 2.9 MB 6.0 MB/s eta 0:00:02\r\u001B[K     |██████▍                         | 2.9 MB 6.0 MB/s eta 0:00:02\r\u001B[K     |██████▍                         | 2.9 MB 6.0 MB/s eta 0:00:02\r\u001B[K     |██████▍                         | 2.9 MB 6.0 MB/s eta 0:00:02\r\u001B[K     |██████▍                         | 2.9 MB 6.0 MB/s eta 0:00:02\r\u001B[K     |██████▌                         | 2.9 MB 6.0 MB/s eta 0:00:02\r\u001B[K     |██████▌                         | 3.0 MB 6.0 MB/s eta 0:00:02\r\u001B[K     |██████▌                         | 3.0 MB 6.0 MB/s eta 0:00:02\r\u001B[K     |██████▌                         | 3.0 MB 6.0 MB/s eta 0:00:02\r\u001B[K     |██████▌                         | 3.0 MB 6.0 MB/s eta 0:00:02\r\u001B[K     |██████▋                         | 3.0 MB 6.0 MB/s eta 0:00:02\r\u001B[K     |██████▋                         | 3.0 MB 6.0 MB/s eta 0:00:02\r\u001B[K     |██████▋                         | 3.0 MB 6.0 MB/s eta 0:00:02\r\u001B[K     |██████▋                         | 3.0 MB 6.0 MB/s eta 0:00:02\r\u001B[K     |██████▋                         | 3.0 MB 6.0 MB/s eta 0:00:02\r\u001B[K     |██████▊                         | 3.1 MB 6.0 MB/s eta 0:00:02\r\u001B[K     |██████▊                         | 3.1 MB 6.0 MB/s eta 0:00:02\r\u001B[K     |██████▊                         | 3.1 MB 6.0 MB/s eta 0:00:02\r\u001B[K     |██████▊                         | 3.1 MB 6.0 MB/s eta 0:00:02\r\u001B[K     |██████▊                         | 3.1 MB 6.0 MB/s eta 0:00:02\r\u001B[K     |██████▉                         | 3.1 MB 6.0 MB/s eta 0:00:02\r\u001B[K     |██████▉                         | 3.1 MB 6.0 MB/s eta 0:00:02\r\u001B[K     |██████▉                         | 3.1 MB 6.0 MB/s eta 0:00:02\r\u001B[K     |██████▉                         | 3.1 MB 6.0 MB/s eta 0:00:02\r\u001B[K     |██████▉                         | 3.1 MB 6.0 MB/s eta 0:00:02\r\u001B[K     |███████                         | 3.2 MB 6.0 MB/s eta 0:00:02\r\u001B[K     |███████                         | 3.2 MB 6.0 MB/s eta 0:00:02\r\u001B[K     |███████                         | 3.2 MB 6.0 MB/s eta 0:00:02\r\u001B[K     |███████                         | 3.2 MB 6.0 MB/s eta 0:00:02\r\u001B[K     |███████                         | 3.2 MB 6.0 MB/s eta 0:00:02\r\u001B[K     |███████                         | 3.2 MB 6.0 MB/s eta 0:00:02\r\u001B[K     |███████                         | 3.2 MB 6.0 MB/s eta 0:00:02\r\u001B[K     |███████                         | 3.2 MB 6.0 MB/s eta 0:00:02\r\u001B[K     |███████                         | 3.2 MB 6.0 MB/s eta 0:00:02\r\u001B[K     |███████                         | 3.2 MB 6.0 MB/s eta 0:00:02\r\u001B[K     |███████▏                        | 3.3 MB 6.0 MB/s eta 0:00:02\r\u001B[K     |███████▏                        | 3.3 MB 6.0 MB/s eta 0:00:02\r\u001B[K     |███████▏                        | 3.3 MB 6.0 MB/s eta 0:00:02\r\u001B[K     |███████▏                        | 3.3 MB 6.0 MB/s eta 0:00:02\r\u001B[K     |███████▏                        | 3.3 MB 6.0 MB/s eta 0:00:02\r\u001B[K     |███████▎                        | 3.3 MB 6.0 MB/s eta 0:00:02\r\u001B[K     |███████▎                        | 3.3 MB 6.0 MB/s eta 0:00:02\r\u001B[K     |███████▎                        | 3.3 MB 6.0 MB/s eta 0:00:02\r\u001B[K     |███████▎                        | 3.3 MB 6.0 MB/s eta 0:00:02\r\u001B[K     |███████▎                        | 3.3 MB 6.0 MB/s eta 0:00:02\r\u001B[K     |███████▍                        | 3.4 MB 6.0 MB/s eta 0:00:02\r\u001B[K     |███████▍                        | 3.4 MB 6.0 MB/s eta 0:00:02\r\u001B[K     |███████▍                        | 3.4 MB 6.0 MB/s eta 0:00:02\r\u001B[K     |███████▍                        | 3.4 MB 6.0 MB/s eta 0:00:02\r\u001B[K     |███████▍                        | 3.4 MB 6.0 MB/s eta 0:00:02\r\u001B[K     |███████▌                        | 3.4 MB 6.0 MB/s eta 0:00:02\r\u001B[K     |███████▌                        | 3.4 MB 6.0 MB/s eta 0:00:02\r\u001B[K     |███████▌                        | 3.4 MB 6.0 MB/s eta 0:00:02\r\u001B[K     |███████▌                        | 3.4 MB 6.0 MB/s eta 0:00:02\r\u001B[K     |███████▌                        | 3.5 MB 6.0 MB/s eta 0:00:02\r\u001B[K     |███████▋                        | 3.5 MB 6.0 MB/s eta 0:00:02\r\u001B[K     |███████▋                        | 3.5 MB 6.0 MB/s eta 0:00:02\r\u001B[K     |███████▋                        | 3.5 MB 6.0 MB/s eta 0:00:02\r\u001B[K     |███████▋                        | 3.5 MB 6.0 MB/s eta 0:00:02\r\u001B[K     |███████▋                        | 3.5 MB 6.0 MB/s eta 0:00:02\r\u001B[K     |███████▊                        | 3.5 MB 6.0 MB/s eta 0:00:02\r\u001B[K     |███████▊                        | 3.5 MB 6.0 MB/s eta 0:00:02\r\u001B[K     |███████▊                        | 3.5 MB 6.0 MB/s eta 0:00:02\r\u001B[K     |███████▊                        | 3.5 MB 6.0 MB/s eta 0:00:02\r\u001B[K     |███████▊                        | 3.6 MB 6.0 MB/s eta 0:00:02\r\u001B[K     |███████▉                        | 3.6 MB 6.0 MB/s eta 0:00:02\r\u001B[K     |███████▉                        | 3.6 MB 6.0 MB/s eta 0:00:02\r\u001B[K     |███████▉                        | 3.6 MB 6.0 MB/s eta 0:00:02\r\u001B[K     |███████▉                        | 3.6 MB 6.0 MB/s eta 0:00:\n\n*** WARNING: max output size exceeded, skipping output. ***\n\n kB 39.0 MB/s eta 0:00:01\r\u001B[K     |█▊                              | 40 kB 43.4 MB/s eta 0:00:01\r\u001B[K     |██▏                             | 51 kB 46.0 MB/s eta 0:00:01\r\u001B[K     |██▋                             | 61 kB 50.2 MB/s eta 0:00:01\r\u001B[K     |███                             | 71 kB 51.4 MB/s eta 0:00:01\r\u001B[K     |███▌                            | 81 kB 51.8 MB/s eta 0:00:01\r\u001B[K     |████                            | 92 kB 53.7 MB/s eta 0:00:01\r\u001B[K     |████▍                           | 102 kB 55.0 MB/s eta 0:00:01\r\u001B[K     |████▉                           | 112 kB 55.0 MB/s eta 0:00:01\r\u001B[K     |█████▎                          | 122 kB 55.0 MB/s eta 0:00:01\r\u001B[K     |█████▊                          | 133 kB 55.0 MB/s eta 0:00:01\r\u001B[K     |██████▏                         | 143 kB 55.0 MB/s eta 0:00:01\r\u001B[K     |██████▋                         | 153 kB 55.0 MB/s eta 0:00:01\r\u001B[K     |███████                         | 163 kB 55.0 MB/s eta 0:00:01\r\u001B[K     |███████▌                        | 174 kB 55.0 MB/s eta 0:00:01\r\u001B[K     |████████                        | 184 kB 55.0 MB/s eta 0:00:01\r\u001B[K     |████████▍                       | 194 kB 55.0 MB/s eta 0:00:01\r\u001B[K     |████████▉                       | 204 kB 55.0 MB/s eta 0:00:01\r\u001B[K     |█████████▎                      | 215 kB 55.0 MB/s eta 0:00:01\r\u001B[K     |█████████▊                      | 225 kB 55.0 MB/s eta 0:00:01\r\u001B[K     |██████████▏                     | 235 kB 55.0 MB/s eta 0:00:01\r\u001B[K     |██████████▋                     | 245 kB 55.0 MB/s eta 0:00:01\r\u001B[K     |███████████                     | 256 kB 55.0 MB/s eta 0:00:01\r\u001B[K     |███████████▌                    | 266 kB 55.0 MB/s eta 0:00:01\r\u001B[K     |████████████                    | 276 kB 55.0 MB/s eta 0:00:01\r\u001B[K     |████████████▍                   | 286 kB 55.0 MB/s eta 0:00:01\r\u001B[K     |████████████▉                   | 296 kB 55.0 MB/s eta 0:00:01\r\u001B[K     |█████████████▎                  | 307 kB 55.0 MB/s eta 0:00:01\r\u001B[K     |█████████████▊                  | 317 kB 55.0 MB/s eta 0:00:01\r\u001B[K     |██████████████▏                 | 327 kB 55.0 MB/s eta 0:00:01\r\u001B[K     |██████████████▋                 | 337 kB 55.0 MB/s eta 0:00:01\r\u001B[K     |███████████████                 | 348 kB 55.0 MB/s eta 0:00:01\r\u001B[K     |███████████████▌                | 358 kB 55.0 MB/s eta 0:00:01\r\u001B[K     |████████████████                | 368 kB 55.0 MB/s eta 0:00:01\r\u001B[K     |████████████████▍               | 378 kB 55.0 MB/s eta 0:00:01\r\u001B[K     |████████████████▉               | 389 kB 55.0 MB/s eta 0:00:01\r\u001B[K     |█████████████████▎              | 399 kB 55.0 MB/s eta 0:00:01\r\u001B[K     |█████████████████▊              | 409 kB 55.0 MB/s eta 0:00:01\r\u001B[K     |██████████████████▏             | 419 kB 55.0 MB/s eta 0:00:01\r\u001B[K     |██████████████████▋             | 430 kB 55.0 MB/s eta 0:00:01\r\u001B[K     |███████████████████             | 440 kB 55.0 MB/s eta 0:00:01\r\u001B[K     |███████████████████▌            | 450 kB 55.0 MB/s eta 0:00:01\r\u001B[K     |████████████████████            | 460 kB 55.0 MB/s eta 0:00:01\r\u001B[K     |████████████████████▍           | 471 kB 55.0 MB/s eta 0:00:01\r\u001B[K     |████████████████████▉           | 481 kB 55.0 MB/s eta 0:00:01\r\u001B[K     |█████████████████████▎          | 491 kB 55.0 MB/s eta 0:00:01\r\u001B[K     |█████████████████████▊          | 501 kB 55.0 MB/s eta 0:00:01\r\u001B[K     |██████████████████████▏         | 512 kB 55.0 MB/s eta 0:00:01\r\u001B[K     |██████████████████████▋         | 522 kB 55.0 MB/s eta 0:00:01\r\u001B[K     |███████████████████████         | 532 kB 55.0 MB/s eta 0:00:01\r\u001B[K     |███████████████████████▌        | 542 kB 55.0 MB/s eta 0:00:01\r\u001B[K     |████████████████████████        | 552 kB 55.0 MB/s eta 0:00:01\r\u001B[K     |████████████████████████▍       | 563 kB 55.0 MB/s eta 0:00:01\r\u001B[K     |████████████████████████▉       | 573 kB 55.0 MB/s eta 0:00:01\r\u001B[K     |█████████████████████████▎      | 583 kB 55.0 MB/s eta 0:00:01\r\u001B[K     |█████████████████████████▊      | 593 kB 55.0 MB/s eta 0:00:01\r\u001B[K     |██████████████████████████▏     | 604 kB 55.0 MB/s eta 0:00:01\r\u001B[K     |██████████████████████████▋     | 614 kB 55.0 MB/s eta 0:00:01\r\u001B[K     |███████████████████████████     | 624 kB 55.0 MB/s eta 0:00:01\r\u001B[K     |███████████████████████████▌    | 634 kB 55.0 MB/s eta 0:00:01\r\u001B[K     |████████████████████████████    | 645 kB 55.0 MB/s eta 0:00:01\r\u001B[K     |████████████████████████████▍   | 655 kB 55.0 MB/s eta 0:00:01\r\u001B[K     |████████████████████████████▉   | 665 kB 55.0 MB/s eta 0:00:01\r\u001B[K     |█████████████████████████████▎  | 675 kB 55.0 MB/s eta 0:00:01\r\u001B[K     |█████████████████████████████▊  | 686 kB 55.0 MB/s eta 0:00:01\r\u001B[K     |██████████████████████████████▏ | 696 kB 55.0 MB/s eta 0:00:01\r\u001B[K     |██████████████████████████████▋ | 706 kB 55.0 MB/s eta 0:00:01\r\u001B[K     |███████████████████████████████ | 716 kB 55.0 MB/s eta 0:00:01\r\u001B[K     |███████████████████████████████▌| 727 kB 55.0 MB/s eta 0:00:01\r\u001B[K     |████████████████████████████████| 737 kB 55.0 MB/s eta 0:00:01\r\u001B[K     |████████████████████████████████| 738 kB 55.0 MB/s \r\n\u001B[?25hCollecting gitpython>=2.1.0\r\n  Downloading GitPython-3.1.40-py3-none-any.whl (190 kB)\r\n\u001B[?25l\r\u001B[K     |█▊                              | 10 kB 36.0 MB/s eta 0:00:01\r\u001B[K     |███▍                            | 20 kB 43.2 MB/s eta 0:00:01\r\u001B[K     |█████▏                          | 30 kB 49.4 MB/s eta 0:00:01\r\u001B[K     |██████▉                         | 40 kB 51.3 MB/s eta 0:00:01\r\u001B[K     |████████▋                       | 51 kB 53.3 MB/s eta 0:00:01\r\u001B[K     |██████████▎                     | 61 kB 57.2 MB/s eta 0:00:01\r\u001B[K     |████████████                    | 71 kB 57.6 MB/s eta 0:00:01\r\u001B[K     |█████████████▊                  | 81 kB 58.5 MB/s eta 0:00:01\r\u001B[K     |███████████████▌                | 92 kB 59.8 MB/s eta 0:00:01\r\u001B[K     |█████████████████▏              | 102 kB 61.3 MB/s eta 0:00:01\r\u001B[K     |███████████████████             | 112 kB 61.3 MB/s eta 0:00:01\r\u001B[K     |████████████████████▋           | 122 kB 61.3 MB/s eta 0:00:01\r\u001B[K     |██████████████████████▍         | 133 kB 61.3 MB/s eta 0:00:01\r\u001B[K     |████████████████████████        | 143 kB 61.3 MB/s eta 0:00:01\r\u001B[K     |█████████████████████████▉      | 153 kB 61.3 MB/s eta 0:00:01\r\u001B[K     |███████████████████████████▌    | 163 kB 61.3 MB/s eta 0:00:01\r\u001B[K     |█████████████████████████████▎  | 174 kB 61.3 MB/s eta 0:00:01\r\u001B[K     |███████████████████████████████ | 184 kB 61.3 MB/s eta 0:00:01\r\u001B[K     |████████████████████████████████| 190 kB 61.3 MB/s \r\n\u001B[?25hRequirement already satisfied: requests>=2.17.3 in /databricks/python3/lib/python3.9/site-packages (from mlflow==1.20.2) (2.27.1)\r\nCollecting databricks-cli>=0.8.7\r\n  Downloading databricks_cli-0.18.0-py2.py3-none-any.whl (150 kB)\r\n\u001B[?25l\r\u001B[K     |██▏                             | 10 kB 25.7 MB/s eta 0:00:01\r\u001B[K     |████▍                           | 20 kB 19.5 MB/s eta 0:00:01\r\u001B[K     |██████▌                         | 30 kB 24.3 MB/s eta 0:00:01\r\u001B[K     |████████▊                       | 40 kB 28.2 MB/s eta 0:00:01\r\u001B[K     |███████████                     | 51 kB 31.0 MB/s eta 0:00:01\r\u001B[K     |█████████████                   | 61 kB 33.8 MB/s eta 0:00:01\r\u001B[K     |███████████████▎                | 71 kB 36.6 MB/s eta 0:00:01\r\u001B[K     |█████████████████▍              | 81 kB 38.9 MB/s eta 0:00:01\r\u001B[K     |███████████████████▋            | 92 kB 40.8 MB/s eta 0:00:01\r\u001B[K     |█████████████████████▉          | 102 kB 42.4 MB/s eta 0:00:01\r\u001B[K     |████████████████████████        | 112 kB 42.4 MB/s eta 0:00:01\r\u001B[K     |██████████████████████████▏     | 122 kB 42.4 MB/s eta 0:00:01\r\u001B[K     |████████████████████████████▍   | 133 kB 42.4 MB/s eta 0:00:01\r\u001B[K     |██████████████████████████████▌ | 143 kB 42.4 MB/s eta 0:00:01\r\u001B[K     |████████████████████████████████| 150 kB 42.4 MB/s \r\n\u001B[?25hCollecting docker>=4.0.0\r\n  Downloading docker-6.1.3-py3-none-any.whl (148 kB)\r\n\u001B[?25l\r\u001B[K     |██▏                             | 10 kB 30.1 MB/s eta 0:00:01\r\u001B[K     |████▍                           | 20 kB 37.5 MB/s eta 0:00:01\r\u001B[K     |██████▋                         | 30 kB 45.0 MB/s eta 0:00:01\r\u001B[K     |████████▉                       | 40 kB 48.4 MB/s eta 0:00:01\r\u001B[K     |███████████                     | 51 kB 51.1 MB/s eta 0:00:01\r\u001B[K     |█████████████▎                  | 61 kB 51.2 MB/s eta 0:00:01\r\u001B[K     |███████████████▌                | 71 kB 53.0 MB/s eta 0:00:01\r\u001B[K     |█████████████████▊              | 81 kB 54.5 MB/s eta 0:00:01\r\u001B[K     |████████████████████            | 92 kB 56.2 MB/s eta 0:00:01\r\u001B[K     |██████████████████████▏         | 102 kB 56.6 MB/s eta 0:00:01\r\u001B[K     |████████████████████████▍       | 112 kB 56.6 MB/s eta 0:00:01\r\u001B[K     |██████████████████████████▌     | 122 kB 56.6 MB/s eta 0:00:01\r\u001B[K     |████████████████████████████▊   | 133 kB 56.6 MB/s eta 0:00:01\r\u001B[K     |███████████████████████████████ | 143 kB 56.6 MB/s eta 0:00:01\r\u001B[K     |████████████████████████████████| 148 kB 56.6 MB/s \r\n\u001B[?25hCollecting Mako\r\n  Downloading Mako-1.3.0-py3-none-any.whl (78 kB)\r\n\u001B[?25l\r\u001B[K     |████▏                           | 10 kB 24.7 MB/s eta 0:00:01\r\u001B[K     |████████▍                       | 20 kB 26.8 MB/s eta 0:00:01\r\u001B[K     |████████████▌                   | 30 kB 32.2 MB/s eta 0:00:01\r\u001B[K     |████████████████▊               | 40 kB 35.6 MB/s eta 0:00:01\r\u001B[K     |████████████████████▉           | 51 kB 36.3 MB/s eta 0:00:01\r\u001B[K     |█████████████████████████       | 61 kB 36.3 MB/s eta 0:00:01\r\u001B[K     |█████████████████████████████▏  | 71 kB 36.7 MB/s eta 0:00:01\r\u001B[K     |████████████████████████████████| 78 kB 9.4 MB/s \r\n\u001B[?25hCollecting python-editor>=0.3\r\n  Downloading python_editor-1.0.4-py3-none-any.whl (4.9 kB)\r\nRequirement already satisfied: python-dateutil in /databricks/python3/lib/python3.9/site-packages (from alembic<=1.4.1->mlflow==1.20.2) (2.8.2)\r\nRequirement already satisfied: urllib3<3,>=1.26.7 in /databricks/python3/lib/python3.9/site-packages (from databricks-cli>=0.8.7->mlflow==1.20.2) (1.26.9)\r\nCollecting tabulate>=0.7.7\r\n  Downloading tabulate-0.9.0-py3-none-any.whl (35 kB)\r\nRequirement already satisfied: six>=1.10.0 in /databricks/python3/lib/python3.9/site-packages (from databricks-cli>=0.8.7->mlflow==1.20.2) (1.16.0)\r\nCollecting oauthlib>=3.1.0\r\n  Downloading oauthlib-3.2.2-py3-none-any.whl (151 kB)\r\n\u001B[?25l\r\u001B[K     |██▏                             | 10 kB 36.0 MB/s eta 0:00:01\r\u001B[K     |████▎                           | 20 kB 43.7 MB/s eta 0:00:01\r\u001B[K     |██████▌                         | 30 kB 50.6 MB/s eta 0:00:01\r\u001B[K     |████████▋                       | 40 kB 53.0 MB/s eta 0:00:01\r\u001B[K     |██████████▉                     | 51 kB 54.1 MB/s eta 0:00:01\r\u001B[K     |█████████████                   | 61 kB 57.9 MB/s eta 0:00:01\r\u001B[K     |███████████████▏                | 71 kB 59.2 MB/s eta 0:00:01\r\u001B[K     |█████████████████▎              | 81 kB 62.0 MB/s eta 0:00:01\r\u001B[K     |███████████████████▍            | 92 kB 62.9 MB/s eta 0:00:01\r\u001B[K     |█████████████████████▋          | 102 kB 64.0 MB/s eta 0:00:01\r\u001B[K     |███████████████████████▊        | 112 kB 64.0 MB/s eta 0:00:01\r\u001B[K     |██████████████████████████      | 122 kB 64.0 MB/s eta 0:00:01\r\u001B[K     |████████████████████████████    | 133 kB 64.0 MB/s eta 0:00:01\r\u001B[K     |██████████████████████████████▎ | 143 kB 64.0 MB/s eta 0:00:01\r\u001B[K     |████████████████████████████████| 151 kB 64.0 MB/s \r\n\u001B[?25hCollecting pyjwt>=1.7.0\r\n  Downloading PyJWT-2.8.0-py3-none-any.whl (22 kB)\r\nCollecting websocket-client>=0.32.0\r\n  Downloading websocket_client-1.6.4-py3-none-any.whl (57 kB)\r\n\u001B[?25l\r\u001B[K     |█████▊                          | 10 kB 33.4 MB/s eta 0:00:01\r\u001B[K     |███████████▍                    | 20 kB 36.4 MB/s eta 0:00:01\r\u001B[K     |█████████████████▏              | 30 kB 42.1 MB/s eta 0:00:01\r\u001B[K     |██████████████████████▉         | 40 kB 45.4 MB/s eta 0:00:01\r\u001B[K     |████████████████████████████▋   | 51 kB 49.2 MB/s eta 0:00:01\r\u001B[K     |████████████████████████████████| 57 kB 8.3 MB/s \r\n\u001B[?25hCollecting gitdb<5,>=4.0.1\r\n  Downloading gitdb-4.0.11-py3-none-any.whl (62 kB)\r\n\u001B[?25l\r\u001B[K     |█████▎                          | 10 kB 33.8 MB/s eta 0:00:01\r\u001B[K     |██████████▌                     | 20 kB 42.7 MB/s eta 0:00:01\r\u001B[K     |███████████████▊                | 30 kB 47.9 MB/s eta 0:00:01\r\u001B[K     |█████████████████████           | 40 kB 51.1 MB/s eta 0:00:01\r\u001B[K     |██████████████████████████▏     | 51 kB 53.6 MB/s eta 0:00:01\r\u001B[K     |███████████████████████████████▍| 61 kB 56.6 MB/s eta 0:00:01\r\u001B[K     |████████████████████████████████| 62 kB 2.3 MB/s \r\n\u001B[?25hCollecting smmap<6,>=3.0.1\r\n  Downloading smmap-5.0.1-py3-none-any.whl (24 kB)\r\nCollecting zipp>=0.5\r\n  Downloading zipp-3.17.0-py3-none-any.whl (7.4 kB)\r\nRequirement already satisfied: pyparsing!=3.0.5,>=2.0.2 in /databricks/python3/lib/python3.9/site-packages (from packaging->mlflow==1.20.2) (3.0.4)\r\nRequirement already satisfied: idna<4,>=2.5 in /databricks/python3/lib/python3.9/site-packages (from requests>=2.17.3->mlflow==1.20.2) (3.3)\r\nRequirement already satisfied: charset-normalizer~=2.0.0 in /databricks/python3/lib/python3.9/site-packages (from requests>=2.17.3->mlflow==1.20.2) (2.0.4)\r\nRequirement already satisfied: certifi>=2017.4.17 in /databricks/python3/lib/python3.9/site-packages (from requests>=2.17.3->mlflow==1.20.2) (2021.10.8)\r\nCollecting typing-extensions>=4.2.0\r\n  Downloading typing_extensions-4.8.0-py3-none-any.whl (31 kB)\r\nCollecting greenlet!=0.4.17\r\n  Downloading greenlet-3.0.1-cp39-cp39-manylinux_2_24_x86_64.manylinux_2_28_x86_64.whl (610 kB)\r\n\u001B[?25l\r\u001B[K     |▌                               | 10 kB 28.9 MB/s eta 0:00:01\r\u001B[K     |█                               | 20 kB 35.8 MB/s eta 0:00:01\r\u001B[K     |█▋                              | 30 kB 42.7 MB/s eta 0:00:01\r\u001B[K     |██▏                             | 40 kB 47.6 MB/s eta 0:00:01\r\u001B[K     |██▊                             | 51 kB 50.0 MB/s eta 0:00:01\r\u001B[K     |███▏                            | 61 kB 52.7 MB/s eta 0:00:01\r\u001B[K     |███▊                            | 71 kB 53.6 MB/s eta 0:00:01\r\u001B[K     |████▎                           | 81 kB 55.0 MB/s eta 0:00:01\r\u001B[K     |████▉                           | 92 kB 57.2 MB/s eta 0:00:01\r\u001B[K     |█████▍                          | 102 kB 58.1 MB/s eta 0:00:01\r\u001B[K     |██████                          | 112 kB 58.1 MB/s eta 0:00:01\r\u001B[K     |██████▍                         | 122 kB 58.1 MB/s eta 0:00:01\r\u001B[K     |███████                         | 133 kB 58.1 MB/s eta 0:00:01\r\u001B[K     |███████▌                        | 143 kB 58.1 MB/s eta 0:00:01\r\u001B[K     |████████                        | 153 kB 58.1 MB/s eta 0:00:01\r\u001B[K     |████████▋                       | 163 kB 58.1 MB/s eta 0:00:01\r\u001B[K     |█████████▏                      | 174 kB 58.1 MB/s eta 0:00:01\r\u001B[K     |█████████▋                      | 184 kB 58.1 MB/s eta 0:00:01\r\u001B[K     |██████████▏                     | 194 kB 58.1 MB/s eta 0:00:01\r\u001B[K     |██████████▊                     | 204 kB 58.1 MB/s eta 0:00:01\r\u001B[K     |███████████▎                    | 215 kB 58.1 MB/s eta 0:00:01\r\u001B[K     |███████████▉                    | 225 kB 58.1 MB/s eta 0:00:01\r\u001B[K     |████████████▍                   | 235 kB 58.1 MB/s eta 0:00:01\r\u001B[K     |████████████▉                   | 245 kB 58.1 MB/s eta 0:00:01\r\u001B[K     |█████████████▍                  | 256 kB 58.1 MB/s eta 0:00:01\r\u001B[K     |██████████████                  | 266 kB 58.1 MB/s eta 0:00:01\r\u001B[K     |██████████████▌                 | 276 kB 58.1 MB/s eta 0:00:01\r\u001B[K     |███████████████                 | 286 kB 58.1 MB/s eta 0:00:01\r\u001B[K     |███████████████▋                | 296 kB 58.1 MB/s eta 0:00:01\r\u001B[K     |████████████████                | 307 kB 58.1 MB/s eta 0:00:01\r\u001B[K     |████████████████▋               | 317 kB 58.1 MB/s eta 0:00:01\r\u001B[K     |█████████████████▏              | 327 kB 58.1 MB/s eta 0:00:01\r\u001B[K     |█████████████████▊              | 337 kB 58.1 MB/s eta 0:00:01\r\u001B[K     |██████████████████▎             | 348 kB 58.1 MB/s eta 0:00:01\r\u001B[K     |██████████████████▉             | 358 kB 58.1 MB/s eta 0:00:01\r\u001B[K     |███████████████████▎            | 368 kB 58.1 MB/s eta 0:00:01\r\u001B[K     |███████████████████▉            | 378 kB 58.1 MB/s eta 0:00:01\r\u001B[K     |████████████████████▍           | 389 kB 58.1 MB/s eta 0:00:01\r\u001B[K     |█████████████████████           | 399 kB 58.1 MB/s eta 0:00:01\r\u001B[K     |█████████████████████▌          | 409 kB 58.1 MB/s eta 0:00:01\r\u001B[K     |██████████████████████          | 419 kB 58.1 MB/s eta 0:00:01\r\u001B[K     |██████████████████████▌         | 430 kB 58.1 MB/s eta 0:00:01\r\u001B[K     |███████████████████████         | 440 kB 58.1 MB/s eta 0:00:01\r\u001B[K     |███████████████████████▋        | 450 kB 58.1 MB/s eta 0:00:01\r\u001B[K     |████████████████████████▏       | 460 kB 58.1 MB/s eta 0:00:01\r\u001B[K     |████████████████████████▊       | 471 kB 58.1 MB/s eta 0:00:01\r\u001B[K     |█████████████████████████▏      | 481 kB 58.1 MB/s eta 0:00:01\r\u001B[K     |█████████████████████████▊      | 491 kB 58.1 MB/s eta 0:00:01\r\u001B[K     |██████████████████████████▎     | 501 kB 58.1 MB/s eta 0:00:01\r\u001B[K     |██████████████████████████▉     | 512 kB 58.1 MB/s eta 0:00:01\r\u001B[K     |███████████████████████████▍    | 522 kB 58.1 MB/s eta 0:00:01\r\u001B[K     |████████████████████████████    | 532 kB 58.1 MB/s eta 0:00:01\r\u001B[K     |████████████████████████████▍   | 542 kB 58.1 MB/s eta 0:00:01\r\u001B[K     |█████████████████████████████   | 552 kB 58.1 MB/s eta 0:00:01\r\u001B[K     |█████████████████████████████▌  | 563 kB 58.1 MB/s eta 0:00:01\r\u001B[K     |██████████████████████████████  | 573 kB 58.1 MB/s eta 0:00:01\r\u001B[K     |██████████████████████████████▋ | 583 kB 58.1 MB/s eta 0:00:01\r\u001B[K     |███████████████████████████████▏| 593 kB 58.1 MB/s eta 0:00:01\r\u001B[K     |███████████████████████████████▋| 604 kB 58.1 MB/s eta 0:00:01\r\u001B[K     |████████████████████████████████| 610 kB 58.1 MB/s \r\n\u001B[?25hCollecting Werkzeug>=3.0.0\r\n  Downloading werkzeug-3.0.1-py3-none-any.whl (226 kB)\r\n\u001B[?25l\r\u001B[K     |█▌                              | 10 kB 41.0 MB/s eta 0:00:01\r\u001B[K     |███                             | 20 kB 45.6 MB/s eta 0:00:01\r\u001B[K     |████▍                           | 30 kB 52.1 MB/s eta 0:00:01\r\u001B[K     |█████▉                          | 40 kB 55.9 MB/s eta 0:00:01\r\u001B[K     |███████▎                        | 51 kB 56.2 MB/s eta 0:00:01\r\u001B[K     |████████▊                       | 61 kB 52.8 MB/s eta 0:00:01\r\u001B[K     |██████████▏                     | 71 kB 53.6 MB/s eta 0:00:01\r\u001B[K     |███████████▋                    | 81 kB 55.4 MB/s eta 0:00:01\r\u001B[K     |█████████████                   | 92 kB 56.5 MB/s eta 0:00:01\r\u001B[K     |██████████████▌                 | 102 kB 58.1 MB/s eta 0:00:01\r\u001B[K     |████████████████                | 112 kB 58.1 MB/s eta 0:00:01\r\u001B[K     |█████████████████▍              | 122 kB 58.1 MB/s eta 0:00:01\r\u001B[K     |██████████████████▉             | 133 kB 58.1 MB/s eta 0:00:01\r\u001B[K     |████████████████████▎           | 143 kB 58.1 MB/s eta 0:00:01\r\u001B[K     |█████████████████████▊          | 153 kB 58.1 MB/s eta 0:00:01\r\u001B[K     |███████████████████████▏        | 163 kB 58.1 MB/s eta 0:00:01\r\u001B[K     |████████████████████████▋       | 174 kB 58.1 MB/s eta 0:00:01\r\u001B[K     |██████████████████████████      | 184 kB 58.1 MB/s eta 0:00:01\r\u001B[K     |███████████████████████████▌    | 194 kB 58.1 MB/s eta 0:00:01\r\u001B[K     |█████████████████████████████   | 204 kB 58.1 MB/s eta 0:00:01\r\u001B[K     |██████████████████████████████▍ | 215 kB 58.1 MB/s eta 0:00:01\r\u001B[K     |███████████████████████████████▉| 225 kB 58.1 MB/s eta 0:00:01\r\u001B[K     |████████████████████████████████| 226 kB 58.1 MB/s \r\n\u001B[?25hCollecting click>=7.0\r\n  Downloading click-8.1.7-py3-none-any.whl (97 kB)\r\n\u001B[?25l\r\u001B[K     |███▍                            | 10 kB 34.3 MB/s eta 0:00:01\r\u001B[K     |██████▊                         | 20 kB 41.1 MB/s eta 0:00:01\r\u001B[K     |██████████                      | 30 kB 45.6 MB/s eta 0:00:01\r\u001B[K     |█████████████▍                  | 40 kB 48.2 MB/s eta 0:00:01\r\u001B[K     |████████████████▊               | 51 kB 14.3 MB/s eta 0:00:01\r\u001B[K     |████████████████████            | 61 kB 16.4 MB/s eta 0:00:01\r\u001B[K     |███████████████████████▍        | 71 kB 18.4 MB/s eta 0:00:01\r\u001B[K     |██████████████████████████▊     | 81 kB 20.3 MB/s eta 0:00:01\r\u001B[K     |██████████████████████████████▏ | 92 kB 22.0 MB/s eta 0:00:01\r\u001B[K     |████████████████████████████████| 97 kB 8.8 MB/s \r\n\u001B[?25hCollecting blinker>=1.6.2\r\n  Downloading blinker-1.7.0-py3-none-any.whl (13 kB)\r\nCollecting Jinja2>=3.1.2\r\n  Downloading Jinja2-3.1.2-py3-none-any.whl (133 kB)\r\n\u001B[?25l\r\u001B[K     |██▌                             | 10 kB 35.3 MB/s eta 0:00:01\r\u001B[K     |█████                           | 20 kB 39.0 MB/s eta 0:00:01\r\u001B[K     |███████▍                        | 30 kB 45.9 MB/s eta 0:00:01\r\u001B[K     |█████████▉                      | 40 kB 49.6 MB/s eta 0:00:01\r\u001B[K     |████████████▎                   | 51 kB 51.7 MB/s eta 0:00:01\r\u001B[K     |██████████████▊                 | 61 kB 53.2 MB/s eta 0:00:01\r\u001B[K     |█████████████████▎              | 71 kB 55.0 MB/s eta 0:00:01\r\u001B[K     |███████████████████▊            | 81 kB 55.6 MB/s eta 0:00:01\r\u001B[K     |██████████████████████▏         | 92 kB 58.0 MB/s eta 0:00:01\r\u001B[K     |████████████████████████▋       | 102 kB 58.3 MB/s eta 0:00:01\r\u001B[K     |███████████████████████████     | 112 kB 58.3 MB/s eta 0:00:01\r\u001B[K     |█████████████████████████████▌  | 122 kB 58.3 MB/s eta 0:00:01\r\u001B[K     |████████████████████████████████| 133 kB 58.3 MB/s \r\n\u001B[?25hCollecting itsdangerous>=2.1.2\r\n  Downloading itsdangerous-2.1.2-py3-none-any.whl (15 kB)\r\nRequirement already satisfied: MarkupSafe>=2.0 in /databricks/python3/lib/python3.9/site-packages (from Jinja2>=3.1.2->Flask->mlflow==1.20.2) (2.0.1)\r\nCollecting MarkupSafe>=2.0\r\n  Downloading MarkupSafe-2.1.3-cp39-cp39-manylinux_2_17_x86_64.manylinux2014_x86_64.whl (25 kB)\r\nRequirement already satisfied: prometheus-client in /databricks/python3/lib/python3.9/site-packages (from prometheus-flask-exporter->mlflow==1.20.2) (0.13.1)\r\nBuilding wheels for collected packages: alembic\r\n  Building wheel for alembic (setup.py) ... \u001B[?25l-\b \b\\\b \b|\b \b/\b \b-\b \b\\\b \b|\b \b/\b \b-\b \b\\\b \b|\b \bdone\r\n\u001B[?25h  Created wheel for alembic: filename=alembic-1.4.1-py2.py3-none-any.whl size=158170 sha256=28390f91dd22b0d0ca5b3f6d82b58f8e10ed67b3803c730bc786d9854a64626d\r\n  Stored in directory: /root/.cache/pip/wheels/05/12/70/e1473f1aab32af60e9b87f14bbbb745b7c2e86d7f3e5b5742b\r\nSuccessfully built alembic\r\nInstalling collected packages: zipp, MarkupSafe, Werkzeug, typing-extensions, smmap, Jinja2, itsdangerous, importlib-metadata, greenlet, click, blinker, websocket-client, tabulate, sqlalchemy, python-editor, pyjwt, oauthlib, Mako, gitdb, Flask, sqlparse, querystring-parser, pyyaml, prometheus-flask-exporter, gunicorn, gitpython, docker, databricks-cli, cloudpickle, alembic, mlflow\r\n  Attempting uninstall: MarkupSafe\r\n    Found existing installation: MarkupSafe 2.0.1\r\n    Not uninstalling markupsafe at /databricks/python3/lib/python3.9/site-packages, outside environment /local_disk0/.ephemeral_nfs/envs/pythonEnv-3fe7ad9b-8516-4a4b-8249-93962bc8060f\r\n    Can't uninstall 'MarkupSafe'. No files were found to uninstall.\r\n  Attempting uninstall: typing-extensions\r\n    Found existing installation: typing-extensions 4.1.1\r\n    Not uninstalling typing-extensions at /databricks/python3/lib/python3.9/site-packages, outside environment /local_disk0/.ephemeral_nfs/envs/pythonEnv-3fe7ad9b-8516-4a4b-8249-93962bc8060f\r\n    Can't uninstall 'typing-extensions'. No files were found to uninstall.\r\n  Attempting uninstall: Jinja2\r\n    Found existing installation: Jinja2 2.11.3\r\n    Not uninstalling jinja2 at /databricks/python3/lib/python3.9/site-packages, outside environment /local_disk0/.ephemeral_nfs/envs/pythonEnv-3fe7ad9b-8516-4a4b-8249-93962bc8060f\r\n    Can't uninstall 'Jinja2'. No files were found to uninstall.\r\n  Attempting uninstall: click\r\n    Found existing installation: click 8.0.4\r\n    Not uninstalling click at /databricks/python3/lib/python3.9/site-packages, outside environment /local_disk0/.ephemeral_nfs/envs/pythonEnv-3fe7ad9b-8516-4a4b-8249-93962bc8060f\r\n    Can't uninstall 'click'. No files were found to uninstall.\r\nSuccessfully installed Flask-3.0.0 Jinja2-3.1.2 Mako-1.3.0 MarkupSafe-2.1.3 Werkzeug-3.0.1 alembic-1.4.1 blinker-1.7.0 click-8.1.7 cloudpickle-3.0.0 databricks-cli-0.18.0 docker-6.1.3 gitdb-4.0.11 gitpython-3.1.40 greenlet-3.0.1 gunicorn-21.2.0 importlib-metadata-6.8.0 itsdangerous-2.1.2 mlflow-1.20.2 oauthlib-3.2.2 prometheus-flask-exporter-0.23.0 pyjwt-2.8.0 python-editor-1.0.4 pyyaml-6.0.1 querystring-parser-1.2.4 smmap-5.0.1 sqlalchemy-2.0.23 sqlparse-0.4.4 tabulate-0.9.0 typing-extensions-4.8.0 websocket-client-1.6.4 zipp-3.17.0\r\n\u001B[33mWARNING: You are using pip version 21.2.4; however, version 23.3.1 is available.\r\nYou should consider upgrading via the '/local_disk0/.ephemeral_nfs/envs/pythonEnv-3fe7ad9b-8516-4a4b-8249-93962bc8060f/bin/python -m pip install --upgrade pip' command.\u001B[0m\r\n"
     ]
    }
   ],
   "source": [
    "!pip install mlflow==1.20.2"
   ]
  },
  {
   "cell_type": "code",
   "execution_count": 0,
   "metadata": {
    "application/vnd.databricks.v1+cell": {
     "cellMetadata": {
      "byteLimit": 2048000,
      "rowLimit": 10000
     },
     "inputWidgets": {},
     "nuid": "99e50beb-a860-47ff-86c3-e039091c0abc",
     "showTitle": false,
     "title": ""
    }
   },
   "outputs": [
    {
     "output_type": "stream",
     "name": "stdout",
     "output_type": "stream",
     "text": [
      "Collecting spark\r\n  Downloading spark-0.2.1.tar.gz (41 kB)\r\n\u001B[?25l\r\u001B[K     |████████                        | 10 kB 15.4 MB/s eta 0:00:01\r\u001B[K     |████████████████                | 20 kB 19.6 MB/s eta 0:00:01\r\u001B[K     |████████████████████████        | 30 kB 19.7 MB/s eta 0:00:01\r\u001B[K     |████████████████████████████████| 40 kB 12.1 MB/s eta 0:00:01\r\u001B[K     |████████████████████████████████| 41 kB 107 kB/s \r\n\u001B[?25hBuilding wheels for collected packages: spark\r\n  Building wheel for spark (setup.py) ... \u001B[?25l-\b \b\\\b \b|\b \b/\b \b-\b \b\\\b \b|\b \bdone\r\n\u001B[?25h  Created wheel for spark: filename=spark-0.2.1-py3-none-any.whl size=58763 sha256=fcb9d2dd73ce96224f9202215fe03ac12311688420b0c558c826abc0e6cae4ff\r\n  Stored in directory: /root/.cache/pip/wheels/bc/0f/6c/b41528ca0fd4d46513185e90da91bc1c484bba6138641c5a62\r\nSuccessfully built spark\r\nInstalling collected packages: spark\r\nSuccessfully installed spark-0.2.1\r\n\u001B[33mWARNING: You are using pip version 21.2.4; however, version 23.3.1 is available.\r\nYou should consider upgrading via the '/local_disk0/.ephemeral_nfs/envs/pythonEnv-3fe7ad9b-8516-4a4b-8249-93962bc8060f/bin/python -m pip install --upgrade pip' command.\u001B[0m\r\n"
     ]
    }
   ],
   "source": [
    "!pip install spark"
   ]
  },
  {
   "cell_type": "code",
   "execution_count": 0,
   "metadata": {
    "application/vnd.databricks.v1+cell": {
     "cellMetadata": {
      "byteLimit": 2048000,
      "rowLimit": 10000
     },
     "inputWidgets": {},
     "nuid": "c8a4ab24-5373-491b-925e-c13cd8ec6112",
     "showTitle": false,
     "title": ""
    }
   },
   "outputs": [
    {
     "output_type": "display_data",
     "data": {
      "application/vnd.databricks.v1+bamboolib_hint": "{\"pd.DataFrames\": [], \"version\": \"0.0.1\"}",
      "text/plain": []
     },
     "metadata": {},
     "output_type": "display_data"
    }
   ],
   "source": [
    "import numpy as np\n",
    "import pandas as pd\n",
    "import matplotlib #\n",
    "import matplotlib.pyplot as plt\n",
    "import seaborn as sns\n",
    "import sklearn #\n",
    "import spark\n",
    "from sklearn.linear_model import LogisticRegression\n",
    "from sklearn.model_selection import train_test_split\n",
    "from sklearn.preprocessing import StandardScaler\n",
    "from sklearn.metrics import roc_auc_score, plot_roc_curve,confusion_matrix\n",
    "from sklearn.model_selection import KFold\n",
    "import mlflow"
   ]
  },
  {
   "cell_type": "code",
   "execution_count": 0,
   "metadata": {
    "application/vnd.databricks.v1+cell": {
     "cellMetadata": {
      "byteLimit": 2048000,
      "rowLimit": 10000
     },
     "inputWidgets": {},
     "nuid": "b494fd65-88f8-4c1b-8304-8ddf19184734",
     "showTitle": false,
     "title": ""
    }
   },
   "outputs": [],
   "source": [
    "from pyspark.sql import SparkSession\n",
    "\n",
    "# Create a Spark session\n",
    "spark = SparkSession.builder.appName(\"YourAppName\").getOrCreate()\n",
    "\n",
    "# File location and type\n",
    "file_location = \"/FileStore/tables/creditcard.csv\"\n",
    "file_type = \"csv\"\n",
    "\n",
    "# CSV options\n",
    "infer_schema = \"true\"\n",
    "first_row_is_header = \"true\"\n",
    "delimiter = \",\"\n",
    "\n",
    "# Read the CSV file into a DataFrame\n",
    "dataframe = spark.read.format(file_type) \\\n",
    "  .option(\"inferSchema\", infer_schema) \\\n",
    "  .option(\"header\", first_row_is_header) \\\n",
    "  .option(\"sep\", delimiter) \\\n",
    "  .load(file_location)\n",
    "\n",
    "# Convert the Spark DataFrame to a Pandas DataFrame\n",
    "df = dataframe.toPandas()\n"
   ]
  },
  {
   "cell_type": "code",
   "execution_count": 0,
   "metadata": {
    "application/vnd.databricks.v1+cell": {
     "cellMetadata": {
      "byteLimit": 2048000,
      "rowLimit": 10000
     },
     "inputWidgets": {},
     "nuid": "4ca44960-043a-4971-bc01-eb4bcc9c2c32",
     "showTitle": false,
     "title": ""
    }
   },
   "outputs": [
    {
     "output_type": "display_data",
     "data": {
      "text/html": [
       "<div>\n",
       "<style scoped>\n",
       "    .dataframe tbody tr th:only-of-type {\n",
       "        vertical-align: middle;\n",
       "    }\n",
       "\n",
       "    .dataframe tbody tr th {\n",
       "        vertical-align: top;\n",
       "    }\n",
       "\n",
       "    .dataframe thead th {\n",
       "        text-align: right;\n",
       "    }\n",
       "</style>\n",
       "<table border=\"1\" class=\"dataframe\">\n",
       "  <thead>\n",
       "    <tr style=\"text-align: right;\">\n",
       "      <th></th>\n",
       "      <th>V1</th>\n",
       "      <th>V2</th>\n",
       "      <th>V3</th>\n",
       "      <th>V4</th>\n",
       "      <th>V5</th>\n",
       "      <th>V6</th>\n",
       "      <th>V7</th>\n",
       "      <th>V8</th>\n",
       "      <th>V9</th>\n",
       "      <th>V10</th>\n",
       "      <th>...</th>\n",
       "      <th>V21</th>\n",
       "      <th>V22</th>\n",
       "      <th>V23</th>\n",
       "      <th>V24</th>\n",
       "      <th>V25</th>\n",
       "      <th>V26</th>\n",
       "      <th>V27</th>\n",
       "      <th>V28</th>\n",
       "      <th>Amount</th>\n",
       "      <th>Class</th>\n",
       "    </tr>\n",
       "  </thead>\n",
       "  <tbody>\n",
       "    <tr>\n",
       "      <th>0</th>\n",
       "      <td>-1.359807</td>\n",
       "      <td>-0.072781</td>\n",
       "      <td>2.536347</td>\n",
       "      <td>1.378155</td>\n",
       "      <td>-0.338321</td>\n",
       "      <td>0.462388</td>\n",
       "      <td>0.239599</td>\n",
       "      <td>0.098698</td>\n",
       "      <td>0.363787</td>\n",
       "      <td>0.090794</td>\n",
       "      <td>...</td>\n",
       "      <td>-0.018307</td>\n",
       "      <td>0.277838</td>\n",
       "      <td>-0.110474</td>\n",
       "      <td>0.066928</td>\n",
       "      <td>0.128539</td>\n",
       "      <td>-0.189115</td>\n",
       "      <td>0.133558</td>\n",
       "      <td>-0.021053</td>\n",
       "      <td>149.62</td>\n",
       "      <td>0</td>\n",
       "    </tr>\n",
       "    <tr>\n",
       "      <th>1</th>\n",
       "      <td>1.191857</td>\n",
       "      <td>0.266151</td>\n",
       "      <td>0.166480</td>\n",
       "      <td>0.448154</td>\n",
       "      <td>0.060018</td>\n",
       "      <td>-0.082361</td>\n",
       "      <td>-0.078803</td>\n",
       "      <td>0.085102</td>\n",
       "      <td>-0.255425</td>\n",
       "      <td>-0.166974</td>\n",
       "      <td>...</td>\n",
       "      <td>-0.225775</td>\n",
       "      <td>-0.638672</td>\n",
       "      <td>0.101288</td>\n",
       "      <td>-0.339846</td>\n",
       "      <td>0.167170</td>\n",
       "      <td>0.125895</td>\n",
       "      <td>-0.008983</td>\n",
       "      <td>0.014724</td>\n",
       "      <td>2.69</td>\n",
       "      <td>0</td>\n",
       "    </tr>\n",
       "    <tr>\n",
       "      <th>2</th>\n",
       "      <td>-1.358354</td>\n",
       "      <td>-1.340163</td>\n",
       "      <td>1.773209</td>\n",
       "      <td>0.379780</td>\n",
       "      <td>-0.503198</td>\n",
       "      <td>1.800499</td>\n",
       "      <td>0.791461</td>\n",
       "      <td>0.247676</td>\n",
       "      <td>-1.514654</td>\n",
       "      <td>0.207643</td>\n",
       "      <td>...</td>\n",
       "      <td>0.247998</td>\n",
       "      <td>0.771679</td>\n",
       "      <td>0.909412</td>\n",
       "      <td>-0.689281</td>\n",
       "      <td>-0.327642</td>\n",
       "      <td>-0.139097</td>\n",
       "      <td>-0.055353</td>\n",
       "      <td>-0.059752</td>\n",
       "      <td>378.66</td>\n",
       "      <td>0</td>\n",
       "    </tr>\n",
       "    <tr>\n",
       "      <th>3</th>\n",
       "      <td>-0.966272</td>\n",
       "      <td>-0.185226</td>\n",
       "      <td>1.792993</td>\n",
       "      <td>-0.863291</td>\n",
       "      <td>-0.010309</td>\n",
       "      <td>1.247203</td>\n",
       "      <td>0.237609</td>\n",
       "      <td>0.377436</td>\n",
       "      <td>-1.387024</td>\n",
       "      <td>-0.054952</td>\n",
       "      <td>...</td>\n",
       "      <td>-0.108300</td>\n",
       "      <td>0.005274</td>\n",
       "      <td>-0.190321</td>\n",
       "      <td>-1.175575</td>\n",
       "      <td>0.647376</td>\n",
       "      <td>-0.221929</td>\n",
       "      <td>0.062723</td>\n",
       "      <td>0.061458</td>\n",
       "      <td>123.50</td>\n",
       "      <td>0</td>\n",
       "    </tr>\n",
       "    <tr>\n",
       "      <th>4</th>\n",
       "      <td>-1.158233</td>\n",
       "      <td>0.877737</td>\n",
       "      <td>1.548718</td>\n",
       "      <td>0.403034</td>\n",
       "      <td>-0.407193</td>\n",
       "      <td>0.095921</td>\n",
       "      <td>0.592941</td>\n",
       "      <td>-0.270533</td>\n",
       "      <td>0.817739</td>\n",
       "      <td>0.753074</td>\n",
       "      <td>...</td>\n",
       "      <td>-0.009431</td>\n",
       "      <td>0.798278</td>\n",
       "      <td>-0.137458</td>\n",
       "      <td>0.141267</td>\n",
       "      <td>-0.206010</td>\n",
       "      <td>0.502292</td>\n",
       "      <td>0.219422</td>\n",
       "      <td>0.215153</td>\n",
       "      <td>69.99</td>\n",
       "      <td>0</td>\n",
       "    </tr>\n",
       "  </tbody>\n",
       "</table>\n",
       "<p>5 rows × 30 columns</p>\n",
       "</div>"
      ]
     },
     "metadata": {
      "application/vnd.databricks.v1+output": {
       "addedWidgets": {},
       "arguments": {},
       "data": "<div>\n<style scoped>\n    .dataframe tbody tr th:only-of-type {\n        vertical-align: middle;\n    }\n\n    .dataframe tbody tr th {\n        vertical-align: top;\n    }\n\n    .dataframe thead th {\n        text-align: right;\n    }\n</style>\n<table border=\"1\" class=\"dataframe\">\n  <thead>\n    <tr style=\"text-align: right;\">\n      <th></th>\n      <th>V1</th>\n      <th>V2</th>\n      <th>V3</th>\n      <th>V4</th>\n      <th>V5</th>\n      <th>V6</th>\n      <th>V7</th>\n      <th>V8</th>\n      <th>V9</th>\n      <th>V10</th>\n      <th>...</th>\n      <th>V21</th>\n      <th>V22</th>\n      <th>V23</th>\n      <th>V24</th>\n      <th>V25</th>\n      <th>V26</th>\n      <th>V27</th>\n      <th>V28</th>\n      <th>Amount</th>\n      <th>Class</th>\n    </tr>\n  </thead>\n  <tbody>\n    <tr>\n      <th>0</th>\n      <td>-1.359807</td>\n      <td>-0.072781</td>\n      <td>2.536347</td>\n      <td>1.378155</td>\n      <td>-0.338321</td>\n      <td>0.462388</td>\n      <td>0.239599</td>\n      <td>0.098698</td>\n      <td>0.363787</td>\n      <td>0.090794</td>\n      <td>...</td>\n      <td>-0.018307</td>\n      <td>0.277838</td>\n      <td>-0.110474</td>\n      <td>0.066928</td>\n      <td>0.128539</td>\n      <td>-0.189115</td>\n      <td>0.133558</td>\n      <td>-0.021053</td>\n      <td>149.62</td>\n      <td>0</td>\n    </tr>\n    <tr>\n      <th>1</th>\n      <td>1.191857</td>\n      <td>0.266151</td>\n      <td>0.166480</td>\n      <td>0.448154</td>\n      <td>0.060018</td>\n      <td>-0.082361</td>\n      <td>-0.078803</td>\n      <td>0.085102</td>\n      <td>-0.255425</td>\n      <td>-0.166974</td>\n      <td>...</td>\n      <td>-0.225775</td>\n      <td>-0.638672</td>\n      <td>0.101288</td>\n      <td>-0.339846</td>\n      <td>0.167170</td>\n      <td>0.125895</td>\n      <td>-0.008983</td>\n      <td>0.014724</td>\n      <td>2.69</td>\n      <td>0</td>\n    </tr>\n    <tr>\n      <th>2</th>\n      <td>-1.358354</td>\n      <td>-1.340163</td>\n      <td>1.773209</td>\n      <td>0.379780</td>\n      <td>-0.503198</td>\n      <td>1.800499</td>\n      <td>0.791461</td>\n      <td>0.247676</td>\n      <td>-1.514654</td>\n      <td>0.207643</td>\n      <td>...</td>\n      <td>0.247998</td>\n      <td>0.771679</td>\n      <td>0.909412</td>\n      <td>-0.689281</td>\n      <td>-0.327642</td>\n      <td>-0.139097</td>\n      <td>-0.055353</td>\n      <td>-0.059752</td>\n      <td>378.66</td>\n      <td>0</td>\n    </tr>\n    <tr>\n      <th>3</th>\n      <td>-0.966272</td>\n      <td>-0.185226</td>\n      <td>1.792993</td>\n      <td>-0.863291</td>\n      <td>-0.010309</td>\n      <td>1.247203</td>\n      <td>0.237609</td>\n      <td>0.377436</td>\n      <td>-1.387024</td>\n      <td>-0.054952</td>\n      <td>...</td>\n      <td>-0.108300</td>\n      <td>0.005274</td>\n      <td>-0.190321</td>\n      <td>-1.175575</td>\n      <td>0.647376</td>\n      <td>-0.221929</td>\n      <td>0.062723</td>\n      <td>0.061458</td>\n      <td>123.50</td>\n      <td>0</td>\n    </tr>\n    <tr>\n      <th>4</th>\n      <td>-1.158233</td>\n      <td>0.877737</td>\n      <td>1.548718</td>\n      <td>0.403034</td>\n      <td>-0.407193</td>\n      <td>0.095921</td>\n      <td>0.592941</td>\n      <td>-0.270533</td>\n      <td>0.817739</td>\n      <td>0.753074</td>\n      <td>...</td>\n      <td>-0.009431</td>\n      <td>0.798278</td>\n      <td>-0.137458</td>\n      <td>0.141267</td>\n      <td>-0.206010</td>\n      <td>0.502292</td>\n      <td>0.219422</td>\n      <td>0.215153</td>\n      <td>69.99</td>\n      <td>0</td>\n    </tr>\n  </tbody>\n</table>\n<p>5 rows × 30 columns</p>\n</div>",
       "datasetInfos": [],
       "metadata": {},
       "removedWidgets": [],
       "textData": null,
       "type": "htmlSandbox"
      }
     },
     "output_type": "display_data"
    }
   ],
   "source": [
    "df = df.drop(\"Time\", axis=1) # cette colonne n'apporte rien à notre analyse \n",
    "df.head()"
   ]
  },
  {
   "cell_type": "code",
   "execution_count": 0,
   "metadata": {
    "application/vnd.databricks.v1+cell": {
     "cellMetadata": {
      "byteLimit": 2048000,
      "rowLimit": 10000
     },
     "inputWidgets": {},
     "nuid": "c4774ea3-9f23-49c3-9106-1e3219f0cb00",
     "showTitle": false,
     "title": ""
    }
   },
   "outputs": [
    {
     "output_type": "stream",
     "name": "stdout",
     "output_type": "stream",
     "text": [
      "Out[6]: <AxesSubplot:xlabel='Class', ylabel='count'>"
     ]
    },
    {
     "output_type": "display_data",
     "data": {
      "image/png": "[encoded data removed]"
     },
     "metadata": {
      "application/vnd.databricks.v1+output": {
       "addedWidgets": {},
       "arguments": {},
       "data": "data:image/png;base64,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\n",
       "datasetInfos": [],
       "metadata": {},
       "removedWidgets": [],
       "type": "image"
      }
     },
     "output_type": "display_data"
    }
   ],
   "source": [
    "sns.countplot(x='Class',data=df)"
   ]
  },
  {
   "cell_type": "code",
   "execution_count": 0,
   "metadata": {
    "application/vnd.databricks.v1+cell": {
     "cellMetadata": {
      "byteLimit": 2048000,
      "rowLimit": 10000
     },
     "inputWidgets": {},
     "nuid": "48b0a1b3-e5c8-4e92-b546-c0a4b5fa1843",
     "showTitle": false,
     "title": ""
    }
   },
   "outputs": [],
   "source": [
    "normal = df[df.Class == 0].sample(frac=0.5,random_state=2020).reset_index(drop=True)\n",
    "anomaly = df[df.Class == 1]"
   ]
  },
  {
   "cell_type": "code",
   "execution_count": 0,
   "metadata": {
    "application/vnd.databricks.v1+cell": {
     "cellMetadata": {
      "byteLimit": 2048000,
      "rowLimit": 10000
     },
     "inputWidgets": {},
     "nuid": "de0c2762-89e8-457a-84c9-9666164ab0c0",
     "showTitle": false,
     "title": ""
    }
   },
   "outputs": [
    {
     "output_type": "stream",
     "name": "stdout",
     "output_type": "stream",
     "text": [
      "Normal: (142158, 30)\nAnomaly: (492, 30)\n"
     ]
    }
   ],
   "source": [
    "print(f\"Normal: {normal.shape}\")\n",
    "print(f\"Anomaly: {anomaly.shape}\")"
   ]
  },
  {
   "cell_type": "code",
   "execution_count": 0,
   "metadata": {
    "application/vnd.databricks.v1+cell": {
     "cellMetadata": {
      "byteLimit": 2048000,
      "rowLimit": 10000
     },
     "inputWidgets": {},
     "nuid": "ae19e65f-f80e-43a3-a0c3-f4d35d60a346",
     "showTitle": false,
     "title": ""
    }
   },
   "outputs": [],
   "source": [
    "normal_train, normal_test = train_test_split(normal,test_size = 0.2, random_state = 2020)\n",
    "anomaly_train, anomaly_test = train_test_split(anomaly, test_size = 0.2, random_state = 2020)\n",
    "normal_train, normal_validate = train_test_split(normal_train,test_size = 0.25, random_state = 2020)\n",
    "anomaly_train, anomaly_validate = train_test_split(anomaly_train, test_size = 0.25, random_state = 2020)"
   ]
  },
  {
   "cell_type": "code",
   "execution_count": 0,
   "metadata": {
    "application/vnd.databricks.v1+cell": {
     "cellMetadata": {
      "byteLimit": 2048000,
      "rowLimit": 10000
     },
     "inputWidgets": {},
     "nuid": "c079d3c3-eeab-4ad3-a2e1-a136c931ea47",
     "showTitle": false,
     "title": ""
    }
   },
   "outputs": [],
   "source": [
    "x_train = pd.concat((normal_train, anomaly_train))\n",
    "x_test = pd.concat((normal_test, anomaly_test))\n",
    "x_validate = pd.concat((normal_validate, anomaly_validate))"
   ]
  },
  {
   "cell_type": "code",
   "execution_count": 0,
   "metadata": {
    "application/vnd.databricks.v1+cell": {
     "cellMetadata": {
      "byteLimit": 2048000,
      "rowLimit": 10000
     },
     "inputWidgets": {},
     "nuid": "96726e1d-fcc0-493d-96c5-55663b35f971",
     "showTitle": false,
     "title": ""
    }
   },
   "outputs": [],
   "source": [
    "y_train = np.array(x_train[\"Class\"])\n",
    "y_test = np.array(x_test[\"Class\"])\n",
    "y_validate = np.array(x_validate[\"Class\"])"
   ]
  },
  {
   "cell_type": "code",
   "execution_count": 0,
   "metadata": {
    "application/vnd.databricks.v1+cell": {
     "cellMetadata": {
      "byteLimit": 2048000,
      "rowLimit": 10000
     },
     "inputWidgets": {},
     "nuid": "dc806924-4815-4f3e-9327-5eefea010b13",
     "showTitle": false,
     "title": ""
    }
   },
   "outputs": [],
   "source": [
    "x_train = x_train.drop(\"Class\", axis=1)\n",
    "x_test = x_test.drop(\"Class\", axis=1)\n",
    "x_validate = x_validate.drop(\"Class\", axis=1)"
   ]
  },
  {
   "cell_type": "code",
   "execution_count": 0,
   "metadata": {
    "application/vnd.databricks.v1+cell": {
     "cellMetadata": {
      "byteLimit": 2048000,
      "rowLimit": 10000
     },
     "inputWidgets": {},
     "nuid": "f1e1ccec-f277-49b5-90b0-a0bed362962f",
     "showTitle": false,
     "title": ""
    }
   },
   "outputs": [
    {
     "output_type": "stream",
     "name": "stdout",
     "output_type": "stream",
     "text": [
      "Training sets:\nx_train: (85588, 29) \ny_train:(85588,)\n\nTesting sets:\nx_test: (28531, 29) \ny_test:(28531,)\n\nValidation sets:\nx_validate: (28531, 29) \ny_validate: (28531,)\n"
     ]
    }
   ],
   "source": [
    "print(\"Training sets:\\nx_train: {} \\ny_train:{}\".format(x_train.shape, y_train.shape))\n",
    "print(\"\\nTesting sets:\\nx_test: {} \\ny_test:{}\".format(x_test.shape, y_test.shape))\n",
    "print(\"\\nValidation sets:\\nx_validate: {} \\ny_validate: {}\".format(x_validate.shape, y_validate.shape))"
   ]
  },
  {
   "cell_type": "code",
   "execution_count": 0,
   "metadata": {
    "application/vnd.databricks.v1+cell": {
     "cellMetadata": {
      "byteLimit": 2048000,
      "rowLimit": 10000
     },
     "inputWidgets": {},
     "nuid": "ca11ca93-6596-45e4-93f9-51e18def75ce",
     "showTitle": false,
     "title": ""
    }
   },
   "outputs": [
    {
     "output_type": "stream",
     "name": "stdout",
     "output_type": "stream",
     "text": [
      "Out[14]: StandardScaler()"
     ]
    }
   ],
   "source": [
    "scaler = StandardScaler()\n",
    "scaler.fit(pd.concat((normal, anomaly)).drop(\"Class\", axis=1))"
   ]
  },
  {
   "cell_type": "code",
   "execution_count": 0,
   "metadata": {
    "application/vnd.databricks.v1+cell": {
     "cellMetadata": {
      "byteLimit": 2048000,
      "rowLimit": 10000
     },
     "inputWidgets": {},
     "nuid": "4a29fe03-aa61-439d-b622-48a93844a5fe",
     "showTitle": false,
     "title": ""
    }
   },
   "outputs": [],
   "source": [
    "x_train = scaler.transform(x_train)\n",
    "x_test = scaler.transform(x_test)\n",
    "x_validate = scaler.transform(x_validate)"
   ]
  },
  {
   "cell_type": "code",
   "execution_count": 0,
   "metadata": {
    "application/vnd.databricks.v1+cell": {
     "cellMetadata": {
      "byteLimit": 2048000,
      "rowLimit": 10000
     },
     "inputWidgets": {},
     "nuid": "890d122a-4426-4a9f-b9bb-37d60f18dfec",
     "showTitle": false,
     "title": ""
    }
   },
   "outputs": [],
   "source": [
    "def train(sk_model, x_train, y_train):\n",
    "    sk_model = sk_model.fit(x_train, y_train)\n",
    "    train_acc = sk_model.score(x_train, y_train)\n",
    "    mlflow.log_metric(\"train_acc\", train_acc)\n",
    "    print(f\"Train Accuracy: {train_acc:.3%}\")"
   ]
  },
  {
   "cell_type": "code",
   "execution_count": 0,
   "metadata": {
    "application/vnd.databricks.v1+cell": {
     "cellMetadata": {
      "byteLimit": 2048000,
      "rowLimit": 10000
     },
     "inputWidgets": {},
     "nuid": "125e3120-3403-4820-8c48-53bb0367d9cd",
     "showTitle": false,
     "title": ""
    }
   },
   "outputs": [],
   "source": [
    "def evaluate(sk_model, x_test, y_test):\n",
    "    eval_acc = sk_model.score(x_test, y_test)\n",
    "    preds = sk_model.predict(x_test)\n",
    "    auc_score = roc_auc_score(y_test, preds)\n",
    "    mlflow.log_metric(\"eval_acc\", eval_acc) # nous avons fait la même chose pour l'accuracy de test (evaluation)\n",
    "    mlflow.log_metric(\"auc_score\", auc_score)# aussi pour l'AUC score \n",
    "    print(f\"Auc Score: {auc_score:.3%}\")\n",
    "    print(f\"Eval Accuracy: {eval_acc:.3%}\")\n",
    "    roc_plot = plot_roc_curve(sk_model, x_test, y_test,name='Scikit-learn ROC Curve')\n",
    "    plt.savefig(\"sklearn_roc_plot.png\")\n",
    "    plt.show()\n",
    "    plt.clf()\n",
    "    conf_matrix = confusion_matrix(y_test, preds)\n",
    "    ax = sns.heatmap(conf_matrix, annot=True,fmt='g')\n",
    "    ax.invert_xaxis()\n",
    "    ax.invert_yaxis()\n",
    "    plt.ylabel('Actual')\n",
    "    plt.xlabel('Predicted')\n",
    "    plt.title(\"Confusion Matrix\")\n",
    "    plt.savefig(\"sklearn_conf_matrix.png\")\n",
    "    # nous avons dit à MLflow de sauvegarder ces deux figure afin de les consulter à chaque \n",
    "    # exécution d'une façon organisée comme nous allons le voir plus loin dans cet atelier  \n",
    "    mlflow.log_artifact(\"sklearn_roc_plot.png\")\n",
    "    mlflow.log_artifact(\"sklearn_conf_matrix.png\")"
   ]
  },
  {
   "cell_type": "code",
   "execution_count": 0,
   "metadata": {
    "application/vnd.databricks.v1+cell": {
     "cellMetadata": {
      "byteLimit": 2048000,
      "rowLimit": 10000
     },
     "inputWidgets": {},
     "nuid": "25464ee6-04a3-472c-89e6-30bfc85e31ee",
     "showTitle": false,
     "title": ""
    }
   },
   "outputs": [
    {
     "output_type": "stream",
     "name": "stdout",
     "output_type": "stream",
     "text": [
      "Wrote 97 bytes.\nOut[18]: True"
     ]
    }
   ],
   "source": [
    "#to configure your DataBricks CLI\n",
    "token = dbutils.notebook.entry_point.getDbutils().notebook().getContext().apiToken().get()\n",
    "dbutils.fs.put(\"file:///root/.databrickscfg\",\"[DEFAULT]\\nhost=https://community.cloud.databricks.com\\ntoken =\"+token,overwrite=True)"
   ]
  },
  {
   "cell_type": "code",
   "execution_count": 0,
   "metadata": {
    "application/vnd.databricks.v1+cell": {
     "cellMetadata": {
      "byteLimit": 2048000,
      "rowLimit": 10000
     },
     "inputWidgets": {},
     "nuid": "f8dc6317-7210-4182-a98a-530138d85895",
     "showTitle": false,
     "title": ""
    }
   },
   "outputs": [
    {
     "output_type": "stream",
     "name": "stderr",
     "output_type": "stream",
     "text": [
      "/databricks/python/lib/python3.9/site-packages/sklearn/utils/optimize.py:210: ConvergenceWarning: newton-cg failed to converge. Increase the number of iterations.\n  warnings.warn(\n"
     ]
    },
    {
     "output_type": "stream",
     "name": "stdout",
     "output_type": "stream",
     "text": [
      "Train Accuracy: 99.893%\nAuc Score: 85.341%\nEval Accuracy: 99.874%\n"
     ]
    },
    {
     "output_type": "stream",
     "name": "stderr",
     "output_type": "stream",
     "text": [
      "/databricks/python/lib/python3.9/site-packages/sklearn/utils/deprecation.py:87: FutureWarning: Function plot_roc_curve is deprecated; Function :func:`plot_roc_curve` is deprecated in 1.0 and will be removed in 1.2. Use one of the class methods: :meth:`sklearn.metric.RocCurveDisplay.from_predictions` or :meth:`sklearn.metric.RocCurveDisplay.from_estimator`.\n  warnings.warn(msg, category=FutureWarning)\n"
     ]
    },
    {
     "output_type": "display_data",
     "data": {
      "image/png": "[encoded data removed]"
     },
     "metadata": {
      "application/vnd.databricks.v1+output": {
       "addedWidgets": {},
       "arguments": {},
       "data": "data:image/png;base64,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\n",
       "datasetInfos": [],
       "metadata": {},
       "removedWidgets": [],
       "type": "image"
      }
     },
     "output_type": "display_data"
    },
    {
     "output_type": "stream",
     "name": "stdout",
     "output_type": "stream",
     "text": [
      "Model run:  e46f04e9aeaa473097d211b925f3a402\n"
     ]
    },
    {
     "output_type": "display_data",
     "data": {
      "image/png": "[encoded data removed]"
     },
     "metadata": {
      "application/vnd.databricks.v1+output": {
       "addedWidgets": {},
       "arguments": {},
       "data": "data:image/png;base64,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\n",
       "datasetInfos": [],
       "metadata": {},
       "removedWidgets": [],
       "type": "image"
      }
     },
     "output_type": "display_data"
    }
   ],
   "source": [
    "sk_model = LogisticRegression(random_state=None,max_iter=10, solver='newton-cg')\n",
    "mlflow.set_experiment(\"/Users/alioune.ndao@um6p.ma/scikit_learn_experiment1\")\n",
    "with mlflow.start_run():\n",
    "    train(sk_model, x_train, y_train)\n",
    "    evaluate(sk_model, x_test, y_test)\n",
    "    mlflow.sklearn.log_model(sk_model, \"log_reg_model\")\n",
    "    print(\"Model run: \", mlflow.active_run().info.run_uuid)\n",
    "mlflow.end_run()"
   ]
  },
  {
   "cell_type": "code",
   "execution_count": 0,
   "metadata": {
    "application/vnd.databricks.v1+cell": {
     "cellMetadata": {
      "byteLimit": 2048000,
      "rowLimit": 10000
     },
     "inputWidgets": {},
     "nuid": "1c77b246-eb1a-442d-97ec-e93d487b80e2",
     "showTitle": false,
     "title": ""
    }
   },
   "outputs": [
    {
     "output_type": "display_data",
     "data": {
      "text/html": [
       "<style scoped>\n",
       "  .ansiout {\n",
       "    display: block;\n",
       "    unicode-bidi: embed;\n",
       "    white-space: pre-wrap;\n",
       "    word-wrap: break-word;\n",
       "    word-break: break-all;\n",
       "    font-family: \"Menlo\", \"Monaco\", \"Consolas\", \"Ubuntu Mono\", \"Source Code Pro\", monospace;\n",
       "    font-size: 13px;\n",
       "    color: #555;\n",
       "    margin-left: 4px;\n",
       "    line-height: 19px;\n",
       "  }\n",
       "</style>"
      ]
     },
     "metadata": {
      "application/vnd.databricks.v1+output": {
       "arguments": {},
       "data": "",
       "errorSummary": "Cancelled",
       "errorTraceType": "html",
       "metadata": {},
       "type": "ipynbError"
      }
     },
     "output_type": "display_data"
    }
   ],
   "source": [
    "\n",
    "# define evaluation\n",
    "\n",
    "# define search space\n",
    "from sklearn.model_selection import RepeatedStratifiedKFold\n",
    "from sklearn.model_selection import RandomizedSearchCV\n",
    "from scipy.stats import loguniform\n",
    "# summarize result\n",
    "#print('Best Score: %s' % result.best_score_)\n",
    "#print('Best Hyperparameters: %s' % result.best_params_)\n",
    "\n",
    "model = LogisticRegression()\n",
    "cv = RepeatedStratifiedKFold(n_splits=10, n_repeats=3, random_state=1)\n",
    "space = dict()\n",
    "space['solver'] = ['newton-cg', 'lbfgs', 'liblinear']\n",
    "space['penalty'] = ['none', 'l1', 'l2', 'elasticnet']\n",
    "space['C'] = loguniform(1e-5, 100)\n",
    "mlflow.set_experiment(\"/Users/alioune.ndao@um6p.ma/scikit_learn_experiment1\")\n",
    "with mlflow.start_run():\n",
    "    search = RandomizedSearchCV(model, space, n_iter=500, scoring='accuracy', n_jobs=-1, cv=cv, random_state=1)\n",
    "    sk_model = search.fit(x_train, y_train)\n",
    "    train(sk_model, x_train, y_train)\n",
    "    evaluate(sk_model, x_test, y_test)\n",
    "    mlflow.sklearn.log_model(sk_model, \"log_reg_model\")\n",
    "    print(\"Model run:\" \", mlflow.active_run().info.run_uuid)\n",
    "mlflow.end_run()"
   ]
  },
  {
   "cell_type": "code",
   "execution_count": 0,
   "metadata": {
    "application/vnd.databricks.v1+cell": {
     "cellMetadata": {
      "byteLimit": 2048000,
      "rowLimit": 10000
     },
     "inputWidgets": {},
     "nuid": "f5221153-2740-4922-9162-70155e11603b",
     "showTitle": false,
     "title": ""
    }
   },
   "outputs": [
    {
     "output_type": "display_data",
     "data": {
      "text/html": [
       "<style scoped>\n",
       "  .table-result-container {\n",
       "    max-height: 300px;\n",
       "    overflow: auto;\n",
       "  }\n",
       "  table, th, td {\n",
       "    border: 1px solid black;\n",
       "    border-collapse: collapse;\n",
       "  }\n",
       "  th, td {\n",
       "    padding: 5px;\n",
       "  }\n",
       "  th {\n",
       "    text-align: left;\n",
       "  }\n",
       "</style><div class='table-result-container'><table class='table-result'><thead style='background-color: white'><tr><th>run_id</th><th>experiment_id</th><th>status</th><th>artifact_uri</th><th>start_time</th><th>end_time</th><th>metrics.auc_score</th><th>metrics.eval_acc</th><th>metrics.train_acc</th><th>tags.mlflow.databricks.cluster.id</th><th>tags.mlflow.databricks.notebookRevisionID</th><th>tags.mlflow.user</th><th>tags.mlflow.source.name</th><th>tags.mlflow.databricks.notebookPath</th><th>tags.mlflow.runName</th><th>tags.mlflow.databricks.notebookID</th><th>tags.mlflow.source.type</th><th>tags.mlflow.databricks.cluster.info</th><th>tags.mlflow.databricks.notebook.commandID</th><th>tags.mlflow.databricks.webappURL</th><th>tags.mlflow.databricks.cluster.libraries</th><th>tags.mlflow.log-model.history</th></tr></thead><tbody><tr><td>1a361170f66241cdbb17121a8747d6d4</td><td>3566423220450575</td><td>FAILED</td><td>dbfs:/databricks/mlflow-tracking/3566423220450575/1a361170f66241cdbb17121a8747d6d4/artifacts</td><td>2023-11-09T21:47:27.306+0000</td><td>2023-11-09T22:45:28.455+0000</td><td>null</td><td>null</td><td>null</td><td>1109-214035-i45r5gg9</td><td>1699569928997</td><td>alioune.ndao@um6p.ma</td><td>/Users/alioune.ndao@um6p.ma/Untitled Notebook 2023-11-08 08:50:15</td><td>/Users/alioune.ndao@um6p.ma/Untitled Notebook 2023-11-08 08:50:15</td><td>unequaled-bug-29</td><td>4077717370712957</td><td>NOTEBOOK</td><td>{\"cluster_name\":\"My Cluster\",\"spark_version\":\"12.2.x-scala2.12\",\"node_type_id\":\"dev-tier-node\",\"driver_node_type_id\":\"dev-tier-node\",\"autotermination_minutes\":120,\"disk_spec\":{\"disk_count\":0},\"num_workers\":0}</td><td>2137429343358729232_5524707683158618602_384ab376b2c64782a7502076948de35c</td><td>https://community.cloud.databricks.com</td><td>{\"installable\":[],\"redacted\":[]}</td><td>null</td></tr><tr><td>e46f04e9aeaa473097d211b925f3a402</td><td>3566423220450575</td><td>FINISHED</td><td>dbfs:/databricks/mlflow-tracking/3566423220450575/e46f04e9aeaa473097d211b925f3a402/artifacts</td><td>2023-11-09T21:47:02.176+0000</td><td>2023-11-09T21:47:12.129+0000</td><td>0.8534122528037835</td><td>0.9987382145736217</td><td>0.9989250829555545</td><td>1109-214035-i45r5gg9</td><td>1699566432558</td><td>alioune.ndao@um6p.ma</td><td>/Users/alioune.ndao@um6p.ma/Untitled Notebook 2023-11-08 08:50:15</td><td>/Users/alioune.ndao@um6p.ma/Untitled Notebook 2023-11-08 08:50:15</td><td>enthused-slug-247</td><td>4077717370712957</td><td>NOTEBOOK</td><td>{\"cluster_name\":\"My Cluster\",\"spark_version\":\"12.2.x-scala2.12\",\"node_type_id\":\"dev-tier-node\",\"driver_node_type_id\":\"dev-tier-node\",\"autotermination_minutes\":120,\"disk_spec\":{\"disk_count\":0},\"num_workers\":0}</td><td>2137429343358729232_9074828659207230581_c2de31380971402d95a562062d5def41</td><td>https://community.cloud.databricks.com</td><td>{\"installable\":[],\"redacted\":[]}</td><td>[{\"artifact_path\":\"log_reg_model\",\"flavors\":{\"python_function\":{\"model_path\":\"model.pkl\",\"loader_module\":\"mlflow.sklearn\",\"python_version\":\"3.9.5\",\"env\":\"conda.yaml\"},\"sklearn\":{\"pickled_model\":\"model.pkl\",\"sklearn_version\":\"1.0.2\",\"serialization_format\":\"cloudpickle\"}},\"run_id\":\"e46f04e9aeaa473097d211b925f3a402\",\"utc_time_created\":\"2023-11-09 21:47:08.462221\",\"databricks_runtime\":\"12.2.x-scala2.12\"}]</td></tr><tr><td>bab39d2cade6486aba278d0de2638774</td><td>3566423220450575</td><td>FAILED</td><td>dbfs:/databricks/mlflow-tracking/3566423220450575/bab39d2cade6486aba278d0de2638774/artifacts</td><td>2023-11-09T00:18:19.271+0000</td><td>2023-11-09T00:41:04.679+0000</td><td>null</td><td>null</td><td>null</td><td>1109-000820-sa38ucg</td><td>1699490465110</td><td>alioune.ndao@um6p.ma</td><td>/Users/alioune.ndao@um6p.ma/Untitled Notebook 2023-11-08 08:50:15</td><td>/Users/alioune.ndao@um6p.ma/Untitled Notebook 2023-11-08 08:50:15</td><td>popular-dolphin-197</td><td>4077717370712957</td><td>NOTEBOOK</td><td>{\"cluster_name\":\"My Cluster\",\"spark_version\":\"12.2.x-scala2.12\",\"node_type_id\":\"dev-tier-node\",\"driver_node_type_id\":\"dev-tier-node\",\"autotermination_minutes\":120,\"disk_spec\":{\"disk_count\":0},\"num_workers\":0}</td><td>1242336018587653160_7646725868834750117_75660ce62aa343c9bf7fded89e785a0e</td><td>https://community.cloud.databricks.com</td><td>{\"installable\":[],\"redacted\":[]}</td><td>null</td></tr><tr><td>61956a4122c949aaaef07c7a32a4d038</td><td>3566423220450575</td><td>FINISHED</td><td>dbfs:/databricks/mlflow-tracking/3566423220450575/61956a4122c949aaaef07c7a32a4d038/artifacts</td><td>2023-11-09T00:17:48.852+0000</td><td>2023-11-09T00:17:57.238+0000</td><td>0.8534122528037835</td><td>0.9987382145736217</td><td>0.9989250829555545</td><td>1109-000820-sa38ucg</td><td>1699489077694</td><td>alioune.ndao@um6p.ma</td><td>/Users/alioune.ndao@um6p.ma/Untitled Notebook 2023-11-08 08:50:15</td><td>/Users/alioune.ndao@um6p.ma/Untitled Notebook 2023-11-08 08:50:15</td><td>beautiful-turtle-743</td><td>4077717370712957</td><td>NOTEBOOK</td><td>{\"cluster_name\":\"My Cluster\",\"spark_version\":\"12.2.x-scala2.12\",\"node_type_id\":\"dev-tier-node\",\"driver_node_type_id\":\"dev-tier-node\",\"autotermination_minutes\":120,\"disk_spec\":{\"disk_count\":0},\"num_workers\":0}</td><td>1242336018587653160_6714616647171236430_f208738863fe4328839051c4d1e49078</td><td>https://community.cloud.databricks.com</td><td>{\"installable\":[],\"redacted\":[]}</td><td>[{\"artifact_path\":\"log_reg_model\",\"flavors\":{\"python_function\":{\"model_path\":\"model.pkl\",\"loader_module\":\"mlflow.sklearn\",\"python_version\":\"3.9.5\",\"env\":\"conda.yaml\"},\"sklearn\":{\"pickled_model\":\"model.pkl\",\"sklearn_version\":\"1.0.2\",\"serialization_format\":\"cloudpickle\"}},\"run_id\":\"61956a4122c949aaaef07c7a32a4d038\",\"utc_time_created\":\"2023-11-09 00:17:53.544445\",\"databricks_runtime\":\"12.2.x-scala2.12\"}]</td></tr></tbody></table></div>"
      ]
     },
     "metadata": {
      "application/vnd.databricks.v1+output": {
       "addedWidgets": {},
       "aggData": [],
       "aggError": "",
       "aggOverflow": false,
       "aggSchema": [],
       "aggSeriesLimitReached": false,
       "aggType": "",
       "arguments": {},
       "columnCustomDisplayInfos": {},
       "data": [
        [
         "1a361170f66241cdbb17121a8747d6d4",
         "3566423220450575",
         "FAILED",
         "dbfs:/databricks/mlflow-tracking/3566423220450575/1a361170f66241cdbb17121a8747d6d4/artifacts",
         "2023-11-09T21:47:27.306+0000",
         "2023-11-09T22:45:28.455+0000",
         null,
         null,
         null,
         "1109-214035-i45r5gg9",
         "1699569928997",
         "alioune.ndao@um6p.ma",
         "/Users/alioune.ndao@um6p.ma/Untitled Notebook 2023-11-08 08:50:15",
         "/Users/alioune.ndao@um6p.ma/Untitled Notebook 2023-11-08 08:50:15",
         "unequaled-bug-29",
         "4077717370712957",
         "NOTEBOOK",
         "{\"cluster_name\":\"My Cluster\",\"spark_version\":\"12.2.x-scala2.12\",\"node_type_id\":\"dev-tier-node\",\"driver_node_type_id\":\"dev-tier-node\",\"autotermination_minutes\":120,\"disk_spec\":{\"disk_count\":0},\"num_workers\":0}",
         "2137429343358729232_5524707683158618602_384ab376b2c64782a7502076948de35c",
         "https://community.cloud.databricks.com",
         "{\"installable\":[],\"redacted\":[]}",
         null
        ],
        [
         "e46f04e9aeaa473097d211b925f3a402",
         "3566423220450575",
         "FINISHED",
         "dbfs:/databricks/mlflow-tracking/3566423220450575/e46f04e9aeaa473097d211b925f3a402/artifacts",
         "2023-11-09T21:47:02.176+0000",
         "2023-11-09T21:47:12.129+0000",
         0.8534122528037835,
         0.9987382145736217,
         0.9989250829555545,
         "1109-214035-i45r5gg9",
         "1699566432558",
         "alioune.ndao@um6p.ma",
         "/Users/alioune.ndao@um6p.ma/Untitled Notebook 2023-11-08 08:50:15",
         "/Users/alioune.ndao@um6p.ma/Untitled Notebook 2023-11-08 08:50:15",
         "enthused-slug-247",
         "4077717370712957",
         "NOTEBOOK",
         "{\"cluster_name\":\"My Cluster\",\"spark_version\":\"12.2.x-scala2.12\",\"node_type_id\":\"dev-tier-node\",\"driver_node_type_id\":\"dev-tier-node\",\"autotermination_minutes\":120,\"disk_spec\":{\"disk_count\":0},\"num_workers\":0}",
         "2137429343358729232_9074828659207230581_c2de31380971402d95a562062d5def41",
         "https://community.cloud.databricks.com",
         "{\"installable\":[],\"redacted\":[]}",
         "[{\"artifact_path\":\"log_reg_model\",\"flavors\":{\"python_function\":{\"model_path\":\"model.pkl\",\"loader_module\":\"mlflow.sklearn\",\"python_version\":\"3.9.5\",\"env\":\"conda.yaml\"},\"sklearn\":{\"pickled_model\":\"model.pkl\",\"sklearn_version\":\"1.0.2\",\"serialization_format\":\"cloudpickle\"}},\"run_id\":\"e46f04e9aeaa473097d211b925f3a402\",\"utc_time_created\":\"2023-11-09 21:47:08.462221\",\"databricks_runtime\":\"12.2.x-scala2.12\"}]"
        ],
        [
         "bab39d2cade6486aba278d0de2638774",
         "3566423220450575",
         "FAILED",
         "dbfs:/databricks/mlflow-tracking/3566423220450575/bab39d2cade6486aba278d0de2638774/artifacts",
         "2023-11-09T00:18:19.271+0000",
         "2023-11-09T00:41:04.679+0000",
         null,
         null,
         null,
         "1109-000820-sa38ucg",
         "1699490465110",
         "alioune.ndao@um6p.ma",
         "/Users/alioune.ndao@um6p.ma/Untitled Notebook 2023-11-08 08:50:15",
         "/Users/alioune.ndao@um6p.ma/Untitled Notebook 2023-11-08 08:50:15",
         "popular-dolphin-197",
         "4077717370712957",
         "NOTEBOOK",
         "{\"cluster_name\":\"My Cluster\",\"spark_version\":\"12.2.x-scala2.12\",\"node_type_id\":\"dev-tier-node\",\"driver_node_type_id\":\"dev-tier-node\",\"autotermination_minutes\":120,\"disk_spec\":{\"disk_count\":0},\"num_workers\":0}",
         "1242336018587653160_7646725868834750117_75660ce62aa343c9bf7fded89e785a0e",
         "https://community.cloud.databricks.com",
         "{\"installable\":[],\"redacted\":[]}",
         null
        ],
        [
         "61956a4122c949aaaef07c7a32a4d038",
         "3566423220450575",
         "FINISHED",
         "dbfs:/databricks/mlflow-tracking/3566423220450575/61956a4122c949aaaef07c7a32a4d038/artifacts",
         "2023-11-09T00:17:48.852+0000",
         "2023-11-09T00:17:57.238+0000",
         0.8534122528037835,
         0.9987382145736217,
         0.9989250829555545,
         "1109-000820-sa38ucg",
         "1699489077694",
         "alioune.ndao@um6p.ma",
         "/Users/alioune.ndao@um6p.ma/Untitled Notebook 2023-11-08 08:50:15",
         "/Users/alioune.ndao@um6p.ma/Untitled Notebook 2023-11-08 08:50:15",
         "beautiful-turtle-743",
         "4077717370712957",
         "NOTEBOOK",
         "{\"cluster_name\":\"My Cluster\",\"spark_version\":\"12.2.x-scala2.12\",\"node_type_id\":\"dev-tier-node\",\"driver_node_type_id\":\"dev-tier-node\",\"autotermination_minutes\":120,\"disk_spec\":{\"disk_count\":0},\"num_workers\":0}",
         "1242336018587653160_6714616647171236430_f208738863fe4328839051c4d1e49078",
         "https://community.cloud.databricks.com",
         "{\"installable\":[],\"redacted\":[]}",
         "[{\"artifact_path\":\"log_reg_model\",\"flavors\":{\"python_function\":{\"model_path\":\"model.pkl\",\"loader_module\":\"mlflow.sklearn\",\"python_version\":\"3.9.5\",\"env\":\"conda.yaml\"},\"sklearn\":{\"pickled_model\":\"model.pkl\",\"sklearn_version\":\"1.0.2\",\"serialization_format\":\"cloudpickle\"}},\"run_id\":\"61956a4122c949aaaef07c7a32a4d038\",\"utc_time_created\":\"2023-11-09 00:17:53.544445\",\"databricks_runtime\":\"12.2.x-scala2.12\"}]"
        ]
       ],
       "datasetInfos": [],
       "dbfsResultPath": null,
       "isJsonSchema": true,
       "metadata": {},
       "overflow": false,
       "plotOptions": {
        "customPlotOptions": {},
        "displayType": "table",
        "pivotAggregation": null,
        "pivotColumns": null,
        "xColumns": null,
        "yColumns": null
       },
       "removedWidgets": [],
       "schema": [
        {
         "metadata": "{}",
         "name": "run_id",
         "type": "\"string\""
        },
        {
         "metadata": "{}",
         "name": "experiment_id",
         "type": "\"string\""
        },
        {
         "metadata": "{}",
         "name": "status",
         "type": "\"string\""
        },
        {
         "metadata": "{}",
         "name": "artifact_uri",
         "type": "\"string\""
        },
        {
         "metadata": "{}",
         "name": "start_time",
         "type": "\"timestamp\""
        },
        {
         "metadata": "{}",
         "name": "end_time",
         "type": "\"timestamp\""
        },
        {
         "metadata": "{}",
         "name": "metrics.auc_score",
         "type": "\"double\""
        },
        {
         "metadata": "{}",
         "name": "metrics.eval_acc",
         "type": "\"double\""
        },
        {
         "metadata": "{}",
         "name": "metrics.train_acc",
         "type": "\"double\""
        },
        {
         "metadata": "{}",
         "name": "tags.mlflow.databricks.cluster.id",
         "type": "\"string\""
        },
        {
         "metadata": "{}",
         "name": "tags.mlflow.databricks.notebookRevisionID",
         "type": "\"string\""
        },
        {
         "metadata": "{}",
         "name": "tags.mlflow.user",
         "type": "\"string\""
        },
        {
         "metadata": "{}",
         "name": "tags.mlflow.source.name",
         "type": "\"string\""
        },
        {
         "metadata": "{}",
         "name": "tags.mlflow.databricks.notebookPath",
         "type": "\"string\""
        },
        {
         "metadata": "{}",
         "name": "tags.mlflow.runName",
         "type": "\"string\""
        },
        {
         "metadata": "{}",
         "name": "tags.mlflow.databricks.notebookID",
         "type": "\"string\""
        },
        {
         "metadata": "{}",
         "name": "tags.mlflow.source.type",
         "type": "\"string\""
        },
        {
         "metadata": "{}",
         "name": "tags.mlflow.databricks.cluster.info",
         "type": "\"string\""
        },
        {
         "metadata": "{}",
         "name": "tags.mlflow.databricks.notebook.commandID",
         "type": "\"string\""
        },
        {
         "metadata": "{}",
         "name": "tags.mlflow.databricks.webappURL",
         "type": "\"string\""
        },
        {
         "metadata": "{}",
         "name": "tags.mlflow.databricks.cluster.libraries",
         "type": "\"string\""
        },
        {
         "metadata": "{}",
         "name": "tags.mlflow.log-model.history",
         "type": "\"string\""
        }
       ],
       "type": "table"
      }
     },
     "output_type": "display_data"
    }
   ],
   "source": [
    "all_runs = mlflow.search_runs(max_results=10)  # Note : This is pandas dataframe\n",
    "display(all_runs)"
   ]
  },
  {
   "cell_type": "code",
   "execution_count": 0,
   "metadata": {
    "application/vnd.databricks.v1+cell": {
     "cellMetadata": {
      "byteLimit": 2048000,
      "rowLimit": 10000
     },
     "inputWidgets": {},
     "nuid": "16424864-b036-4283-bd69-2b8fe8cab964",
     "showTitle": false,
     "title": ""
    }
   },
   "outputs": [
    {
     "output_type": "stream",
     "name": "stderr",
     "output_type": "stream",
     "text": [
      "/databricks/python/lib/python3.9/site-packages/sklearn/svm/_base.py:284: ConvergenceWarning: Solver terminated early (max_iter=10).  Consider pre-processing your data with StandardScaler or MinMaxScaler.\n  warnings.warn(\n"
     ]
    },
    {
     "output_type": "stream",
     "name": "stdout",
     "output_type": "stream",
     "text": [
      "Train Accuracy: 86.442%\nAuc Score: 43.418%\nEval Accuracy: 86.534%\n"
     ]
    },
    {
     "output_type": "stream",
     "name": "stderr",
     "output_type": "stream",
     "text": [
      "/databricks/python/lib/python3.9/site-packages/sklearn/utils/deprecation.py:87: FutureWarning: Function plot_roc_curve is deprecated; Function :func:`plot_roc_curve` is deprecated in 1.0 and will be removed in 1.2. Use one of the class methods: :meth:`sklearn.metric.RocCurveDisplay.from_predictions` or :meth:`sklearn.metric.RocCurveDisplay.from_estimator`.\n  warnings.warn(msg, category=FutureWarning)\n"
     ]
    },
    {
     "output_type": "display_data",
     "data": {
      "image/png": "[encoded data removed]"
     },
     "metadata": {
      "application/vnd.databricks.v1+output": {
       "addedWidgets": {},
       "arguments": {},
       "data": "data:image/png;base64,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\n",
       "datasetInfos": [],
       "metadata": {},
       "removedWidgets": [],
       "type": "image"
      }
     },
     "output_type": "display_data"
    },
    {
     "output_type": "stream",
     "name": "stdout",
     "output_type": "stream",
     "text": [
      "Model run:  6caed0fb9d7547cd93cff77d3955d737\n"
     ]
    },
    {
     "output_type": "display_data",
     "data": {
      "image/png": "[encoded data removed]"
     },
     "metadata": {
      "application/vnd.databricks.v1+output": {
       "addedWidgets": {},
       "arguments": {},
       "data": "data:image/png;base64,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\n",
       "datasetInfos": [],
       "metadata": {},
       "removedWidgets": [],
       "type": "image"
      }
     },
     "output_type": "display_data"
    }
   ],
   "source": [
    "from sklearn.svm import SVC\n",
    "sk_model = SVC(random_state=None, max_iter=10)\n",
    "mlflow.set_experiment(\"/Users/alioune.ndao@um6p.ma/scikit_learn_experiment1\")\n",
    "with mlflow.start_run():\n",
    "    train(sk_model, x_train, y_train)\n",
    "    evaluate(sk_model, x_test, y_test)\n",
    "    mlflow.sklearn.log_model(sk_model, \"log_reg_model\")\n",
    "    print(\"Model run: \", mlflow.active_run().info.run_uuid)\n",
    "mlflow.end_run()\n"
   ]
  },
  {
   "cell_type": "code",
   "execution_count": 0,
   "metadata": {
    "application/vnd.databricks.v1+cell": {
     "cellMetadata": {},
     "inputWidgets": {},
     "nuid": "761de3d7-32eb-46e0-b1e8-3af47b70f6df",
     "showTitle": false,
     "title": ""
    }
   },
   "outputs": [],
   "source": [
    "### Le modèle regression logistique est meilleure que le modèle SVC"
   ]
  }
 ],
 "metadata": {
  "application/vnd.databricks.v1+notebook": {
   "dashboards": [],
   "language": "python",
   "notebookMetadata": {
    "pythonIndentUnit": 4
   },
   "notebookName": "Databricks5",
   "widgets": {}
  }
 },
 "nbformat": 4,
 "nbformat_minor": 0
}
